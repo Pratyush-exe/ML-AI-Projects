{
  "nbformat": 4,
  "nbformat_minor": 0,
  "metadata": {
    "colab": {
      "name": "005_Emotion_Detection_UsingImageGenerators.ipynb",
      "provenance": []
    },
    "kernelspec": {
      "name": "python3",
      "display_name": "Python 3"
    },
    "accelerator": "GPU"
  },
  "cells": [
    {
      "cell_type": "code",
      "metadata": {
        "colab": {
          "base_uri": "https://localhost:8080/"
        },
        "id": "BWirC1hF6ZfV",
        "outputId": "740e0177-2fe2-4fc5-ae38-f3da5b2271c9"
      },
      "source": [
        "!nvidia-smi -L"
      ],
      "execution_count": 1,
      "outputs": [
        {
          "output_type": "stream",
          "text": [
            "GPU 0: Tesla T4 (UUID: GPU-ad20b092-0723-7872-0e22-0e53b09363a2)\n"
          ],
          "name": "stdout"
        }
      ]
    },
    {
      "cell_type": "code",
      "metadata": {
        "colab": {
          "base_uri": "https://localhost:8080/"
        },
        "id": "OZ-ap5yjzPu1",
        "outputId": "d50fbade-03ee-4ef7-ccaa-42e5d32668c9"
      },
      "source": [
        "from googleapiclient.discovery import build\r\n",
        "import io, os\r\n",
        "from googleapiclient.http import MediaIoBaseDownload\r\n",
        "from google.colab import auth\r\n",
        "auth.authenticate_user()\r\n",
        "drive_service = build('drive', 'v3')\r\n",
        "results = drive_service.files().list(\r\n",
        "        q=\"name = 'kaggle.json'\", fields=\"files(id)\").execute()\r\n",
        "kaggle_api_key = results.get('files', [])\r\n",
        "filename = \"/root/.kaggle/kaggle.json\"  # NOTE: This is different from the Medium post!\r\n",
        "os.makedirs(os.path.dirname(filename), exist_ok=True)\r\n",
        "request = drive_service.files().get_media(fileId=kaggle_api_key[0]['id'])\r\n",
        "fh = io.FileIO(filename, 'wb')\r\n",
        "downloader = MediaIoBaseDownload(fh, request)\r\n",
        "done = False\r\n",
        "while done is False:\r\n",
        "    status, done = downloader.next_chunk()\r\n",
        "    print(\"Download %d%%.\" % int(status.progress() * 100))\r\n",
        "os.chmod(filename, 600)"
      ],
      "execution_count": 3,
      "outputs": [
        {
          "output_type": "stream",
          "text": [
            "Download 100%.\n"
          ],
          "name": "stdout"
        }
      ]
    },
    {
      "cell_type": "code",
      "metadata": {
        "colab": {
          "base_uri": "https://localhost:8080/"
        },
        "id": "GmSg0Rd_huc6",
        "outputId": "5ae671d4-ab80-4506-e997-e20d4135ecec"
      },
      "source": [
        "!kaggle datasets download -d jonathanoheix/face-expression-recognition-dataset"
      ],
      "execution_count": 5,
      "outputs": [
        {
          "output_type": "stream",
          "text": [
            "Downloading face-expression-recognition-dataset.zip to /content\n",
            " 94% 113M/121M [00:04<00:00, 40.2MB/s] \n",
            "100% 121M/121M [00:04<00:00, 29.2MB/s]\n"
          ],
          "name": "stdout"
        }
      ]
    },
    {
      "cell_type": "code",
      "metadata": {
        "id": "cjZyy-N9zW8Y"
      },
      "source": [
        "!unzip \\*.zip"
      ],
      "execution_count": null,
      "outputs": []
    },
    {
      "cell_type": "code",
      "metadata": {
        "colab": {
          "base_uri": "https://localhost:8080/"
        },
        "id": "bTGalqC33Z09",
        "outputId": "563efe57-7613-4e35-cd01-1fc01e692b1f"
      },
      "source": [
        "from tensorflow.keras.preprocessing.image import ImageDataGenerator\r\n",
        "\r\n",
        "train_datagen = ImageDataGenerator(rescale=1/255)\r\n",
        "\r\n",
        "train_generator = train_datagen.flow_from_directory(\r\n",
        "    'images/images/train',\r\n",
        "    target_size=(150, 150),\r\n",
        "    batch_size=64,\r\n",
        "    class_mode='categorical'\r\n",
        ")"
      ],
      "execution_count": 7,
      "outputs": [
        {
          "output_type": "stream",
          "text": [
            "Found 28821 images belonging to 7 classes.\n"
          ],
          "name": "stdout"
        }
      ]
    },
    {
      "cell_type": "code",
      "metadata": {
        "colab": {
          "base_uri": "https://localhost:8080/"
        },
        "id": "jwlULBUo44P_",
        "outputId": "303e8119-a750-4ea0-f4d0-df841906d6a8"
      },
      "source": [
        "test_datagen = ImageDataGenerator(rescale=1/255)\r\n",
        "\r\n",
        "test_generator = train_datagen.flow_from_directory(\r\n",
        "    'images/images/validation',\r\n",
        "    target_size=(150, 150),\r\n",
        "    batch_size=64,\r\n",
        "    class_mode='categorical'\r\n",
        ")\r\n",
        "filenames = test_generator.filenames"
      ],
      "execution_count": 8,
      "outputs": [
        {
          "output_type": "stream",
          "text": [
            "Found 7066 images belonging to 7 classes.\n"
          ],
          "name": "stdout"
        }
      ]
    },
    {
      "cell_type": "code",
      "metadata": {
        "id": "KtXbjuvN5Rjr",
        "colab": {
          "base_uri": "https://localhost:8080/"
        },
        "outputId": "dbbcf697-e776-4cdf-d703-2515ffa8677c"
      },
      "source": [
        "import tensorflow as tf\r\n",
        "from tensorflow.keras.optimizers import RMSprop\r\n",
        "\r\n",
        "model = tf.keras.models.Sequential()\r\n",
        "\r\n",
        "model.add(tf.keras.layers.Conv2D(64, (3,3), activation='relu', input_shape=(150,150,3)))\r\n",
        "model.add(tf.keras.layers.MaxPooling2D(2,2))\r\n",
        "model.add(tf.keras.layers.Conv2D(32, (3,3), activation='relu'))\r\n",
        "model.add(tf.keras.layers.MaxPooling2D(2,2))\r\n",
        "model.add(tf.keras.layers.Conv2D(32, (2,2), activation='relu'))\r\n",
        "model.add(tf.keras.layers.MaxPooling2D(2,2))\r\n",
        "model.add(tf.keras.layers.Flatten())\r\n",
        "model.add(tf.keras.layers.Dense(512, activation='relu'))\r\n",
        "model.add(tf.keras.layers.Dense(128, activation='relu'))\r\n",
        "model.add(tf.keras.layers.Dense(7, activation='sigmoid'))\r\n",
        "\r\n",
        "model.summary()\r\n",
        "\r\n",
        "model.compile( optimizer=RMSprop(), loss='categorical_crossentropy', metrics=['accuracy'])"
      ],
      "execution_count": 9,
      "outputs": [
        {
          "output_type": "stream",
          "text": [
            "Model: \"sequential\"\n",
            "_________________________________________________________________\n",
            "Layer (type)                 Output Shape              Param #   \n",
            "=================================================================\n",
            "conv2d (Conv2D)              (None, 148, 148, 64)      1792      \n",
            "_________________________________________________________________\n",
            "max_pooling2d (MaxPooling2D) (None, 74, 74, 64)        0         \n",
            "_________________________________________________________________\n",
            "conv2d_1 (Conv2D)            (None, 72, 72, 32)        18464     \n",
            "_________________________________________________________________\n",
            "max_pooling2d_1 (MaxPooling2 (None, 36, 36, 32)        0         \n",
            "_________________________________________________________________\n",
            "conv2d_2 (Conv2D)            (None, 35, 35, 32)        4128      \n",
            "_________________________________________________________________\n",
            "max_pooling2d_2 (MaxPooling2 (None, 17, 17, 32)        0         \n",
            "_________________________________________________________________\n",
            "flatten (Flatten)            (None, 9248)              0         \n",
            "_________________________________________________________________\n",
            "dense (Dense)                (None, 512)               4735488   \n",
            "_________________________________________________________________\n",
            "dense_1 (Dense)              (None, 128)               65664     \n",
            "_________________________________________________________________\n",
            "dense_2 (Dense)              (None, 7)                 903       \n",
            "=================================================================\n",
            "Total params: 4,826,439\n",
            "Trainable params: 4,826,439\n",
            "Non-trainable params: 0\n",
            "_________________________________________________________________\n"
          ],
          "name": "stdout"
        }
      ]
    },
    {
      "cell_type": "code",
      "metadata": {
        "id": "AdXXIgcWsr1A"
      },
      "source": [
        "class customCallback(tf.keras.callbacks.Callback):\r\n",
        "  def on_epoch_end(self, epoch, logs = {}):\r\n",
        "    if logs.get('accuracy')>0.98:\r\n",
        "      print(\"0.98 or 98% accuracy reached!\")\r\n",
        "      self.model.stop_training = True"
      ],
      "execution_count": 10,
      "outputs": []
    },
    {
      "cell_type": "code",
      "metadata": {
        "colab": {
          "base_uri": "https://localhost:8080/"
        },
        "id": "QkVu2qxY6EC9",
        "outputId": "146c3e1c-6f98-480a-dfbb-5537b416f9b2"
      },
      "source": [
        "history = model.fit_generator(generator = train_generator, epochs = 20, validation_data = test_generator, validation_steps = 20, callbacks=[customCallback()])"
      ],
      "execution_count": 11,
      "outputs": [
        {
          "output_type": "stream",
          "text": [
            "/usr/local/lib/python3.7/dist-packages/tensorflow/python/keras/engine/training.py:1844: UserWarning: `Model.fit_generator` is deprecated and will be removed in a future version. Please use `Model.fit`, which supports generators.\n",
            "  warnings.warn('`Model.fit_generator` is deprecated and '\n"
          ],
          "name": "stderr"
        },
        {
          "output_type": "stream",
          "text": [
            "Epoch 1/20\n",
            "451/451 [==============================] - 56s 50ms/step - loss: 1.8901 - accuracy: 0.2796 - val_loss: 1.4942 - val_accuracy: 0.4281\n",
            "Epoch 2/20\n",
            "451/451 [==============================] - 22s 49ms/step - loss: 1.4103 - accuracy: 0.4595 - val_loss: 1.3752 - val_accuracy: 0.4758\n",
            "Epoch 3/20\n",
            "451/451 [==============================] - 22s 48ms/step - loss: 1.1595 - accuracy: 0.5653 - val_loss: 1.2700 - val_accuracy: 0.5211\n",
            "Epoch 4/20\n",
            "451/451 [==============================] - 22s 48ms/step - loss: 0.8149 - accuracy: 0.7045 - val_loss: 1.3951 - val_accuracy: 0.5242\n",
            "Epoch 5/20\n",
            "451/451 [==============================] - 22s 49ms/step - loss: 0.4485 - accuracy: 0.8411 - val_loss: 1.7939 - val_accuracy: 0.5422\n",
            "Epoch 6/20\n",
            "451/451 [==============================] - 22s 48ms/step - loss: 0.2091 - accuracy: 0.9338 - val_loss: 2.6668 - val_accuracy: 0.4914\n",
            "Epoch 7/20\n",
            "451/451 [==============================] - 22s 48ms/step - loss: 0.1190 - accuracy: 0.9635 - val_loss: 2.6210 - val_accuracy: 0.5336\n",
            "Epoch 8/20\n",
            "451/451 [==============================] - 22s 48ms/step - loss: 0.0811 - accuracy: 0.9765 - val_loss: 3.4554 - val_accuracy: 0.4953\n",
            "Epoch 9/20\n",
            "451/451 [==============================] - 22s 49ms/step - loss: 0.0657 - accuracy: 0.9806 - val_loss: 3.2210 - val_accuracy: 0.5102\n",
            "Epoch 10/20\n",
            "451/451 [==============================] - 22s 49ms/step - loss: 0.0626 - accuracy: 0.9828 - val_loss: 3.1512 - val_accuracy: 0.5148\n",
            "Epoch 11/20\n",
            "451/451 [==============================] - 22s 48ms/step - loss: 0.0589 - accuracy: 0.9842 - val_loss: 4.1698 - val_accuracy: 0.5344\n",
            "Epoch 12/20\n",
            "451/451 [==============================] - 22s 48ms/step - loss: 0.0602 - accuracy: 0.9826 - val_loss: 3.4425 - val_accuracy: 0.5070\n",
            "0.98 or 98% accuracy reached!\n"
          ],
          "name": "stdout"
        }
      ]
    },
    {
      "cell_type": "code",
      "metadata": {
        "colab": {
          "base_uri": "https://localhost:8080/",
          "height": 356
        },
        "id": "UCT5lQhd6O4f",
        "outputId": "94ecff5a-dc73-4a57-cc42-361ffee69beb"
      },
      "source": [
        "import matplotlib.pyplot as plt\r\n",
        "\r\n",
        "plt.figure(figsize=(15,5))\r\n",
        "plt.subplot(1, 2, 1)\r\n",
        "plt.suptitle('Optimizer : Adam', fontsize=10)\r\n",
        "plt.ylabel('Loss', fontsize=16)\r\n",
        "plt.plot(history.history['loss'], label='Training Loss')\r\n",
        "plt.plot(history.history['val_loss'], label='Validation Loss')\r\n",
        "plt.legend(loc='upper right')\r\n",
        "\r\n",
        "plt.subplot(1, 2, 2)\r\n",
        "plt.ylabel('Accuracy', fontsize=16)\r\n",
        "plt.plot(history.history['accuracy'], label='Training Accuracy')\r\n",
        "plt.plot(history.history['val_accuracy'], label='Validation Accuracy')\r\n",
        "plt.legend(loc='lower right')\r\n",
        "plt.show()"
      ],
      "execution_count": 13,
      "outputs": [
        {
          "output_type": "display_data",
          "data": {
            "image/png": "[encoded data removed]",
            "text/plain": [
              "<Figure size 1080x360 with 2 Axes>"
            ]
          },
          "metadata": {
            "tags": [],
            "needs_background": "light"
          }
        }
      ]
    }
  ]
}