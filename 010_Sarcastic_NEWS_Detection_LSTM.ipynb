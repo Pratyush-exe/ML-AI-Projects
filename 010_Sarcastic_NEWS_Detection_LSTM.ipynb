{
  "nbformat": 4,
  "nbformat_minor": 0,
  "metadata": {
    "colab": {
      "name": "010_Sarcastic_NEWS_Detection_LSTM.ipynb",
      "provenance": []
    },
    "kernelspec": {
      "name": "python3",
      "display_name": "Python 3"
    },
    "accelerator": "GPU"
  },
  "cells": [
    {
      "cell_type": "code",
      "metadata": {
        "colab": {
          "base_uri": "https://localhost:8080/"
        },
        "id": "3iSxgk6QqAU8",
        "outputId": "f477dcd9-a155-456c-96e3-655ae89954b5"
      },
      "source": [
        "!nvidia-smi -L"
      ],
      "execution_count": 1,
      "outputs": [
        {
          "output_type": "stream",
          "text": [
            "GPU 0: Tesla K80 (UUID: GPU-5952eae4-a213-86ea-6e25-0633d278de83)\n"
          ],
          "name": "stdout"
        }
      ]
    },
    {
      "cell_type": "code",
      "metadata": {
        "id": "x9dTGAFmqh1X"
      },
      "source": [
        "import json\r\n",
        "import tensorflow as tf\r\n",
        "import numpy as np\r\n",
        "from tensorflow.keras.preprocessing.text import Tokenizer\r\n",
        "from tensorflow.keras.preprocessing.sequence import pad_sequences"
      ],
      "execution_count": 10,
      "outputs": []
    },
    {
      "cell_type": "code",
      "metadata": {
        "colab": {
          "base_uri": "https://localhost:8080/"
        },
        "id": "0GKY3-7zqusA",
        "outputId": "0577e83c-06f7-44e8-a40e-35e41b501610"
      },
      "source": [
        "!wget --no-check-certificate \\\r\n",
        "    https://storage.googleapis.com/laurencemoroney-blog.appspot.com/sarcasm.json \\\r\n",
        "    -O /tmp/sarcasm.json"
      ],
      "execution_count": 3,
      "outputs": [
        {
          "output_type": "stream",
          "text": [
            "--2021-03-18 14:09:37--  https://storage.googleapis.com/laurencemoroney-blog.appspot.com/sarcasm.json\n",
            "Resolving storage.googleapis.com (storage.googleapis.com)... 108.177.15.128, 173.194.76.128, 66.102.1.128, ...\n",
            "Connecting to storage.googleapis.com (storage.googleapis.com)|108.177.15.128|:443... connected.\n",
            "HTTP request sent, awaiting response... 200 OK\n",
            "Length: 5643545 (5.4M) [application/json]\n",
            "Saving to: ‘/tmp/sarcasm.json’\n",
            "\n",
            "\r/tmp/sarcasm.json     0%[                    ]       0  --.-KB/s               \r/tmp/sarcasm.json   100%[===================>]   5.38M  --.-KB/s    in 0.05s   \n",
            "\n",
            "2021-03-18 14:09:37 (100 MB/s) - ‘/tmp/sarcasm.json’ saved [5643545/5643545]\n",
            "\n"
          ],
          "name": "stdout"
        }
      ]
    },
    {
      "cell_type": "code",
      "metadata": {
        "id": "JR_5cY-Eqvum"
      },
      "source": [
        "vocab_size = 1000\r\n",
        "embedding_dim = 16\r\n",
        "max_length = 120\r\n",
        "trunc_type='post'\r\n",
        "padding_type='post'\r\n",
        "oov_tok = \"<OOV>\"\r\n",
        "training_size = 20000\r\n",
        "\r\n",
        "with open(\"/tmp/sarcasm.json\", 'r') as f:\r\n",
        "    datastore = json.load(f)\r\n",
        "\r\n",
        "sentences = []\r\n",
        "labels = []\r\n",
        "urls = []\r\n",
        "for item in datastore:\r\n",
        "    sentences.append(item['headline'])\r\n",
        "    labels.append(item['is_sarcastic'])\r\n",
        "\r\n",
        "training_sentences = np.array(sentences[0:training_size])\r\n",
        "testing_sentences = np.array(sentences[training_size:])\r\n",
        "training_labels = np.array(labels[0:training_size])\r\n",
        "testing_labels = np.array(labels[training_size:])"
      ],
      "execution_count": 11,
      "outputs": []
    },
    {
      "cell_type": "code",
      "metadata": {
        "id": "F-hCGboWq4Ow"
      },
      "source": [
        "tokenizer = Tokenizer(num_words=vocab_size, oov_token=oov_tok)\r\n",
        "tokenizer.fit_on_texts(training_sentences)\r\n",
        "word_index = tokenizer.word_index\r\n",
        "\r\n",
        "training_sequences = tokenizer.texts_to_sequences(training_sentences)\r\n",
        "training_padded = pad_sequences(training_sequences, maxlen=max_length, padding=padding_type, truncating=trunc_type)\r\n",
        "\r\n",
        "testing_sequences = tokenizer.texts_to_sequences(testing_sentences)\r\n",
        "testing_padded = pad_sequences(testing_sequences, maxlen=max_length, padding=padding_type, truncating=trunc_type)"
      ],
      "execution_count": 12,
      "outputs": []
    },
    {
      "cell_type": "code",
      "metadata": {
        "colab": {
          "base_uri": "https://localhost:8080/"
        },
        "id": "reVY44BerAvr",
        "outputId": "c9dabc63-96e4-44f5-8991-26e702f56dfa"
      },
      "source": [
        "model = tf.keras.Sequential()\r\n",
        "\r\n",
        "model.add(tf.keras.layers.Embedding(vocab_size, embedding_dim, input_length=max_length))\r\n",
        "model.add(tf.keras.layers.Bidirectional(tf.keras.layers.LSTM(32)))\r\n",
        "model.add(tf.keras.layers.Dense(24, activation='relu'))\r\n",
        "model.add(tf.keras.layers.Dense(1, activation='sigmoid'))\r\n",
        "\r\n",
        "model.compile(loss='binary_crossentropy',optimizer='adam',metrics=['accuracy'])\r\n",
        "model.summary()"
      ],
      "execution_count": 13,
      "outputs": [
        {
          "output_type": "stream",
          "text": [
            "Model: \"sequential_2\"\n",
            "_________________________________________________________________\n",
            "Layer (type)                 Output Shape              Param #   \n",
            "=================================================================\n",
            "embedding_2 (Embedding)      (None, 120, 16)           16000     \n",
            "_________________________________________________________________\n",
            "bidirectional_3 (Bidirection (None, 64)                12544     \n",
            "_________________________________________________________________\n",
            "dense_2 (Dense)              (None, 24)                1560      \n",
            "_________________________________________________________________\n",
            "dense_3 (Dense)              (None, 1)                 25        \n",
            "=================================================================\n",
            "Total params: 30,129\n",
            "Trainable params: 30,129\n",
            "Non-trainable params: 0\n",
            "_________________________________________________________________\n"
          ],
          "name": "stdout"
        }
      ]
    },
    {
      "cell_type": "code",
      "metadata": {
        "colab": {
          "base_uri": "https://localhost:8080/"
        },
        "id": "bnRyheL9sB-b",
        "outputId": "3125cd2e-8f92-4d90-996f-bdb3c45265a9"
      },
      "source": [
        "history = model.fit(training_padded, training_labels, epochs = 10, validation_data = (testing_padded, testing_labels), verbose = 1)"
      ],
      "execution_count": 14,
      "outputs": [
        {
          "output_type": "stream",
          "text": [
            "Epoch 1/10\n",
            "625/625 [==============================] - 70s 61ms/step - loss: 0.5528 - accuracy: 0.6917 - val_loss: 0.3892 - val_accuracy: 0.8229\n",
            "Epoch 2/10\n",
            "625/625 [==============================] - 38s 60ms/step - loss: 0.3544 - accuracy: 0.8393 - val_loss: 0.3777 - val_accuracy: 0.8296\n",
            "Epoch 3/10\n",
            "625/625 [==============================] - 38s 60ms/step - loss: 0.3265 - accuracy: 0.8545 - val_loss: 0.3735 - val_accuracy: 0.8325\n",
            "Epoch 4/10\n",
            "625/625 [==============================] - 37s 60ms/step - loss: 0.3103 - accuracy: 0.8605 - val_loss: 0.3746 - val_accuracy: 0.8322\n",
            "Epoch 5/10\n",
            "625/625 [==============================] - 37s 60ms/step - loss: 0.3031 - accuracy: 0.8636 - val_loss: 0.3804 - val_accuracy: 0.8317\n",
            "Epoch 6/10\n",
            "625/625 [==============================] - 38s 60ms/step - loss: 0.2861 - accuracy: 0.8737 - val_loss: 0.3806 - val_accuracy: 0.8286\n",
            "Epoch 7/10\n",
            "625/625 [==============================] - 37s 60ms/step - loss: 0.2827 - accuracy: 0.8748 - val_loss: 0.3853 - val_accuracy: 0.8335\n",
            "Epoch 8/10\n",
            "625/625 [==============================] - 38s 60ms/step - loss: 0.2693 - accuracy: 0.8801 - val_loss: 0.3886 - val_accuracy: 0.8323\n",
            "Epoch 9/10\n",
            "625/625 [==============================] - 37s 60ms/step - loss: 0.2705 - accuracy: 0.8848 - val_loss: 0.4177 - val_accuracy: 0.8290\n",
            "Epoch 10/10\n",
            "625/625 [==============================] - 38s 60ms/step - loss: 0.2549 - accuracy: 0.8940 - val_loss: 0.4122 - val_accuracy: 0.8228\n"
          ],
          "name": "stdout"
        }
      ]
    },
    {
      "cell_type": "code",
      "metadata": {
        "colab": {
          "base_uri": "https://localhost:8080/",
          "height": 334
        },
        "id": "-shubUl1uMxc",
        "outputId": "46784c72-0e36-44ff-cb45-5f4a5e4009db"
      },
      "source": [
        "import matplotlib.pyplot as plt\r\n",
        "\r\n",
        "plt.figure(figsize=(15,5))\r\n",
        "plt.subplot(1, 2, 1)\r\n",
        "plt.plot(history.history['accuracy'])\r\n",
        "plt.plot(history.history['val_accuracy'])\r\n",
        "plt.xlabel(\"Epochs\")\r\n",
        "plt.ylabel('Accuracy')\r\n",
        "plt.legend(['Accuracy', 'val_accuracy'])\r\n",
        "\r\n",
        "plt.subplot(1, 2, 2)\r\n",
        "plt.plot(history.history['loss'])\r\n",
        "plt.plot(history.history['val_loss'])\r\n",
        "plt.xlabel(\"Epochs\")\r\n",
        "plt.ylabel('Loss')\r\n",
        "plt.legend(['Loss', 'val_loss'])\r\n",
        "plt.show()"
      ],
      "execution_count": 16,
      "outputs": [
        {
          "output_type": "display_data",
          "data": {
            "image/png": "[encoded data removed]",
            "text/plain": [
              "<Figure size 1080x360 with 2 Axes>"
            ]
          },
          "metadata": {
            "tags": [],
            "needs_background": "light"
          }
        }
      ]
    }
  ]
}