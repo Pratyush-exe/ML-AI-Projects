{
  "nbformat": 4,
  "nbformat_minor": 0,
  "metadata": {
    "accelerator": "GPU",
    "colab": {
      "name": "011_Sarcastic_NEWS_Detection_CNN.ipynb",
      "provenance": []
    },
    "kernelspec": {
      "display_name": "Python 3",
      "name": "python3"
    }
  },
  "cells": [
    {
      "cell_type": "code",
      "metadata": {
        "colab": {
          "base_uri": "https://localhost:8080/"
        },
        "id": "3iSxgk6QqAU8",
        "outputId": "c9d1468c-2996-4918-cfda-31ab7e299661"
      },
      "source": [
        "!nvidia-smi -L"
      ],
      "execution_count": 8,
      "outputs": [
        {
          "output_type": "stream",
          "text": [
            "GPU 0: Tesla P100-PCIE-16GB (UUID: GPU-6beefaca-14cf-40c0-5d08-cfa0e327d626)\n"
          ],
          "name": "stdout"
        }
      ]
    },
    {
      "cell_type": "code",
      "metadata": {
        "id": "x9dTGAFmqh1X"
      },
      "source": [
        "import json\r\n",
        "import tensorflow as tf\r\n",
        "import numpy as np\r\n",
        "from tensorflow.keras.preprocessing.text import Tokenizer\r\n",
        "from tensorflow.keras.preprocessing.sequence import pad_sequences"
      ],
      "execution_count": 9,
      "outputs": []
    },
    {
      "cell_type": "code",
      "metadata": {
        "colab": {
          "base_uri": "https://localhost:8080/"
        },
        "id": "0GKY3-7zqusA",
        "outputId": "03d00caf-e756-472a-9148-b08b5e039158"
      },
      "source": [
        "!wget --no-check-certificate \\\r\n",
        "    https://storage.googleapis.com/laurencemoroney-blog.appspot.com/sarcasm.json \\\r\n",
        "    -O /tmp/sarcasm.json"
      ],
      "execution_count": 10,
      "outputs": [
        {
          "output_type": "stream",
          "text": [
            "--2021-03-18 14:30:25--  https://storage.googleapis.com/laurencemoroney-blog.appspot.com/sarcasm.json\n",
            "Resolving storage.googleapis.com (storage.googleapis.com)... 74.125.20.128, 74.125.197.128, 74.125.142.128, ...\n",
            "Connecting to storage.googleapis.com (storage.googleapis.com)|74.125.20.128|:443... connected.\n",
            "HTTP request sent, awaiting response... 200 OK\n",
            "Length: 5643545 (5.4M) [application/json]\n",
            "Saving to: ‘/tmp/sarcasm.json’\n",
            "\n",
            "\r/tmp/sarcasm.json     0%[                    ]       0  --.-KB/s               \r/tmp/sarcasm.json   100%[===================>]   5.38M  --.-KB/s    in 0.03s   \n",
            "\n",
            "2021-03-18 14:30:25 (165 MB/s) - ‘/tmp/sarcasm.json’ saved [5643545/5643545]\n",
            "\n"
          ],
          "name": "stdout"
        }
      ]
    },
    {
      "cell_type": "code",
      "metadata": {
        "id": "JR_5cY-Eqvum"
      },
      "source": [
        "vocab_size = 1000\r\n",
        "embedding_dim = 16\r\n",
        "max_length = 120\r\n",
        "trunc_type='post'\r\n",
        "padding_type='post'\r\n",
        "oov_tok = \"<OOV>\"\r\n",
        "training_size = 20000\r\n",
        "\r\n",
        "with open(\"/tmp/sarcasm.json\", 'r') as f:\r\n",
        "    datastore = json.load(f)\r\n",
        "\r\n",
        "sentences = []\r\n",
        "labels = []\r\n",
        "urls = []\r\n",
        "for item in datastore:\r\n",
        "    sentences.append(item['headline'])\r\n",
        "    labels.append(item['is_sarcastic'])\r\n",
        "\r\n",
        "training_sentences = np.array(sentences[0:training_size])\r\n",
        "testing_sentences = np.array(sentences[training_size:])\r\n",
        "training_labels = np.array(labels[0:training_size])\r\n",
        "testing_labels = np.array(labels[training_size:])"
      ],
      "execution_count": 11,
      "outputs": []
    },
    {
      "cell_type": "code",
      "metadata": {
        "id": "F-hCGboWq4Ow"
      },
      "source": [
        "tokenizer = Tokenizer(num_words=vocab_size, oov_token=oov_tok)\r\n",
        "tokenizer.fit_on_texts(training_sentences)\r\n",
        "word_index = tokenizer.word_index\r\n",
        "\r\n",
        "training_sequences = tokenizer.texts_to_sequences(training_sentences)\r\n",
        "training_padded = pad_sequences(training_sequences, maxlen=max_length, padding=padding_type, truncating=trunc_type)\r\n",
        "\r\n",
        "testing_sequences = tokenizer.texts_to_sequences(testing_sentences)\r\n",
        "testing_padded = pad_sequences(testing_sequences, maxlen=max_length, padding=padding_type, truncating=trunc_type)"
      ],
      "execution_count": 12,
      "outputs": []
    },
    {
      "cell_type": "code",
      "metadata": {
        "colab": {
          "base_uri": "https://localhost:8080/"
        },
        "id": "reVY44BerAvr",
        "outputId": "e9920766-1f83-4441-fd8c-6a8684439f38"
      },
      "source": [
        "model = tf.keras.Sequential()\r\n",
        "\r\n",
        "model.add( tf.keras.layers.Embedding(vocab_size, embedding_dim, input_length=max_length))\r\n",
        "model.add( tf.keras.layers.Conv1D(128, 5, activation='relu'))\r\n",
        "model.add( tf.keras.layers.GlobalMaxPooling1D())\r\n",
        "model.add( tf.keras.layers.Dense(24, activation='relu'))\r\n",
        "model.add( tf.keras.layers.Dense(1, activation='sigmoid'))\r\n",
        "\r\n",
        "model.compile(loss = 'binary_crossentropy', optimizer = 'adam', metrics = ['accuracy'])\r\n",
        "model.summary()"
      ],
      "execution_count": 13,
      "outputs": [
        {
          "output_type": "stream",
          "text": [
            "Model: \"sequential_1\"\n",
            "_________________________________________________________________\n",
            "Layer (type)                 Output Shape              Param #   \n",
            "=================================================================\n",
            "embedding_1 (Embedding)      (None, 120, 16)           16000     \n",
            "_________________________________________________________________\n",
            "conv1d_1 (Conv1D)            (None, 116, 128)          10368     \n",
            "_________________________________________________________________\n",
            "global_max_pooling1d_1 (Glob (None, 128)               0         \n",
            "_________________________________________________________________\n",
            "dense_2 (Dense)              (None, 24)                3096      \n",
            "_________________________________________________________________\n",
            "dense_3 (Dense)              (None, 1)                 25        \n",
            "=================================================================\n",
            "Total params: 29,489\n",
            "Trainable params: 29,489\n",
            "Non-trainable params: 0\n",
            "_________________________________________________________________\n"
          ],
          "name": "stdout"
        }
      ]
    },
    {
      "cell_type": "code",
      "metadata": {
        "colab": {
          "base_uri": "https://localhost:8080/"
        },
        "id": "J0aLy_3WtsfV",
        "outputId": "62b98796-9103-486e-a83e-96d5dcb5e776"
      },
      "source": [
        "history = model.fit(training_padded, training_labels, epochs = 30, validation_data = (testing_padded, testing_labels), verbose = 1)"
      ],
      "execution_count": 14,
      "outputs": [
        {
          "output_type": "stream",
          "text": [
            "Epoch 1/30\n",
            "625/625 [==============================] - 4s 5ms/step - loss: 0.5620 - accuracy: 0.6901 - val_loss: 0.4157 - val_accuracy: 0.8123\n",
            "Epoch 2/30\n",
            "625/625 [==============================] - 3s 5ms/step - loss: 0.3558 - accuracy: 0.8406 - val_loss: 0.3942 - val_accuracy: 0.8225\n",
            "Epoch 3/30\n",
            "625/625 [==============================] - 3s 5ms/step - loss: 0.3170 - accuracy: 0.8592 - val_loss: 0.3944 - val_accuracy: 0.8225\n",
            "Epoch 4/30\n",
            "625/625 [==============================] - 3s 5ms/step - loss: 0.2776 - accuracy: 0.8794 - val_loss: 0.4106 - val_accuracy: 0.8150\n",
            "Epoch 5/30\n",
            "625/625 [==============================] - 3s 5ms/step - loss: 0.2467 - accuracy: 0.8971 - val_loss: 0.4273 - val_accuracy: 0.8165\n",
            "Epoch 6/30\n",
            "625/625 [==============================] - 3s 5ms/step - loss: 0.2149 - accuracy: 0.9147 - val_loss: 0.4590 - val_accuracy: 0.8071\n",
            "Epoch 7/30\n",
            "625/625 [==============================] - 3s 5ms/step - loss: 0.1785 - accuracy: 0.9318 - val_loss: 0.5109 - val_accuracy: 0.8038\n",
            "Epoch 8/30\n",
            "625/625 [==============================] - 3s 5ms/step - loss: 0.1558 - accuracy: 0.9416 - val_loss: 0.5771 - val_accuracy: 0.8046\n",
            "Epoch 9/30\n",
            "625/625 [==============================] - 3s 5ms/step - loss: 0.1318 - accuracy: 0.9543 - val_loss: 0.6202 - val_accuracy: 0.8027\n",
            "Epoch 10/30\n",
            "625/625 [==============================] - 3s 5ms/step - loss: 0.1040 - accuracy: 0.9652 - val_loss: 0.7102 - val_accuracy: 0.7974\n",
            "Epoch 11/30\n",
            "625/625 [==============================] - 3s 5ms/step - loss: 0.0856 - accuracy: 0.9715 - val_loss: 0.8033 - val_accuracy: 0.7986\n",
            "Epoch 12/30\n",
            "625/625 [==============================] - 3s 5ms/step - loss: 0.0765 - accuracy: 0.9755 - val_loss: 0.8624 - val_accuracy: 0.7951\n",
            "Epoch 13/30\n",
            "625/625 [==============================] - 3s 5ms/step - loss: 0.0691 - accuracy: 0.9757 - val_loss: 1.0233 - val_accuracy: 0.7889\n",
            "Epoch 14/30\n",
            "625/625 [==============================] - 3s 5ms/step - loss: 0.0588 - accuracy: 0.9797 - val_loss: 1.1111 - val_accuracy: 0.7876\n",
            "Epoch 15/30\n",
            "625/625 [==============================] - 3s 5ms/step - loss: 0.0472 - accuracy: 0.9832 - val_loss: 1.1252 - val_accuracy: 0.7924\n",
            "Epoch 16/30\n",
            "625/625 [==============================] - 3s 5ms/step - loss: 0.0481 - accuracy: 0.9828 - val_loss: 1.2016 - val_accuracy: 0.7874\n",
            "Epoch 17/30\n",
            "625/625 [==============================] - 3s 5ms/step - loss: 0.0410 - accuracy: 0.9851 - val_loss: 1.2713 - val_accuracy: 0.7900\n",
            "Epoch 18/30\n",
            "625/625 [==============================] - 3s 5ms/step - loss: 0.0386 - accuracy: 0.9855 - val_loss: 1.4008 - val_accuracy: 0.7816\n",
            "Epoch 19/30\n",
            "625/625 [==============================] - 3s 5ms/step - loss: 0.0369 - accuracy: 0.9852 - val_loss: 1.4215 - val_accuracy: 0.7907\n",
            "Epoch 20/30\n",
            "625/625 [==============================] - 3s 5ms/step - loss: 0.0385 - accuracy: 0.9855 - val_loss: 1.5014 - val_accuracy: 0.7869\n",
            "Epoch 21/30\n",
            "625/625 [==============================] - 3s 5ms/step - loss: 0.0319 - accuracy: 0.9878 - val_loss: 1.5482 - val_accuracy: 0.7858\n",
            "Epoch 22/30\n",
            "625/625 [==============================] - 3s 5ms/step - loss: 0.0360 - accuracy: 0.9861 - val_loss: 1.6680 - val_accuracy: 0.7798\n",
            "Epoch 23/30\n",
            "625/625 [==============================] - 3s 5ms/step - loss: 0.0374 - accuracy: 0.9856 - val_loss: 1.8017 - val_accuracy: 0.7767\n",
            "Epoch 24/30\n",
            "625/625 [==============================] - 3s 5ms/step - loss: 0.0265 - accuracy: 0.9892 - val_loss: 1.7329 - val_accuracy: 0.7837\n",
            "Epoch 25/30\n",
            "625/625 [==============================] - 3s 5ms/step - loss: 0.0314 - accuracy: 0.9866 - val_loss: 1.8264 - val_accuracy: 0.7822\n",
            "Epoch 26/30\n",
            "625/625 [==============================] - 3s 5ms/step - loss: 0.0267 - accuracy: 0.9890 - val_loss: 1.8681 - val_accuracy: 0.7740\n",
            "Epoch 27/30\n",
            "625/625 [==============================] - 3s 5ms/step - loss: 0.0300 - accuracy: 0.9886 - val_loss: 1.9233 - val_accuracy: 0.7795\n",
            "Epoch 28/30\n",
            "625/625 [==============================] - 3s 5ms/step - loss: 0.0269 - accuracy: 0.9898 - val_loss: 1.9201 - val_accuracy: 0.7849\n",
            "Epoch 29/30\n",
            "625/625 [==============================] - 3s 5ms/step - loss: 0.0236 - accuracy: 0.9909 - val_loss: 2.1106 - val_accuracy: 0.7787\n",
            "Epoch 30/30\n",
            "625/625 [==============================] - 3s 5ms/step - loss: 0.0261 - accuracy: 0.9895 - val_loss: 2.0584 - val_accuracy: 0.7809\n"
          ],
          "name": "stdout"
        }
      ]
    },
    {
      "cell_type": "code",
      "metadata": {
        "colab": {
          "base_uri": "https://localhost:8080/",
          "height": 336
        },
        "id": "aHXzY9OyvkVJ",
        "outputId": "859a1087-b92a-45ed-ac85-d0d254752cea"
      },
      "source": [
        "import matplotlib.pyplot as plt\r\n",
        "\r\n",
        "plt.figure(figsize=(15,5))\r\n",
        "plt.subplot(1, 2, 1)\r\n",
        "plt.plot(history.history['accuracy'])\r\n",
        "plt.plot(history.history['val_accuracy'])\r\n",
        "plt.xlabel(\"Epochs\")\r\n",
        "plt.ylabel('accuracy')\r\n",
        "plt.legend(['Accuracy', 'val_accuracy'])\r\n",
        "\r\n",
        "plt.subplot(1, 2, 2)\r\n",
        "plt.plot(history.history['loss'])\r\n",
        "plt.plot(history.history['val_loss'])\r\n",
        "plt.xlabel(\"Epochs\")\r\n",
        "plt.ylabel('loss')\r\n",
        "plt.legend(['Loss', 'val_loss'])\r\n",
        "plt.show()"
      ],
      "execution_count": 15,
      "outputs": [
        {
          "output_type": "display_data",
          "data": {
            "image/png": "[encoded data removed]",
            "text/plain": [
              "<Figure size 1080x360 with 2 Axes>"
            ]
          },
          "metadata": {
            "tags": [],
            "needs_background": "light"
          }
        }
      ]
    }
  ]
}