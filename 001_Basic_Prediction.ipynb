{
  "nbformat": 4,
  "nbformat_minor": 0,
  "metadata": {
    "colab": {
      "name": "001 Basic Prediction.ipynb",
      "provenance": []
    },
    "kernelspec": {
      "name": "python3",
      "display_name": "Python 3"
    }
  },
  "cells": [
    {
      "cell_type": "code",
      "metadata": {
        "id": "lLF5zzfav7ki"
      },
      "source": [
        "import tensorflow as tf\r\n",
        "from tensorflow import keras\r\n",
        "import numpy as np"
      ],
      "execution_count": 36,
      "outputs": []
    },
    {
      "cell_type": "code",
      "metadata": {
        "colab": {
          "base_uri": "https://localhost:8080/"
        },
        "id": "Zm3YkoQQwMY5",
        "outputId": "afc7cc3c-ac19-4fb6-cb5a-b4e218aefa08"
      },
      "source": [
        "model = keras.models.Sequential()\r\n",
        "model.add(tf.keras.Input(shape=(1,)))\r\n",
        "model.add(tf.keras.layers.Dense(5))\r\n",
        "model.add(tf.keras.layers.Dense(1))\r\n",
        "\r\n",
        "model.summary()\r\n",
        "\r\n",
        "model.compile( optimizer='adam', loss='mean_squared_error')"
      ],
      "execution_count": 37,
      "outputs": [
        {
          "output_type": "stream",
          "text": [
            "Model: \"sequential_6\"\n",
            "_________________________________________________________________\n",
            "Layer (type)                 Output Shape              Param #   \n",
            "=================================================================\n",
            "dense_12 (Dense)             (None, 5)                 10        \n",
            "_________________________________________________________________\n",
            "dense_13 (Dense)             (None, 1)                 6         \n",
            "=================================================================\n",
            "Total params: 16\n",
            "Trainable params: 16\n",
            "Non-trainable params: 0\n",
            "_________________________________________________________________\n"
          ],
          "name": "stdout"
        }
      ]
    },
    {
      "cell_type": "code",
      "metadata": {
        "id": "iQG-2h_2xXOR"
      },
      "source": [
        "x = np.array([i for i in range(0,20)])\r\n",
        "y = x*2"
      ],
      "execution_count": 38,
      "outputs": []
    },
    {
      "cell_type": "code",
      "metadata": {
        "id": "AzgRkB3DycRE"
      },
      "source": [
        "model.fit(x, y, epochs=6000)"
      ],
      "execution_count": null,
      "outputs": []
    },
    {
      "cell_type": "code",
      "metadata": {
        "colab": {
          "base_uri": "https://localhost:8080/"
        },
        "id": "F5g1u3DHydQF",
        "outputId": "c7662977-b7e2-4412-d6a0-6777becc35fe"
      },
      "source": [
        "print(model.predict([41]))"
      ],
      "execution_count": 40,
      "outputs": [
        {
          "output_type": "stream",
          "text": [
            "[[81.99307]]\n"
          ],
          "name": "stdout"
        }
      ]
    }
  ]
}