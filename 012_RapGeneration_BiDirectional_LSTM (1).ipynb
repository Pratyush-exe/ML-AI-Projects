{
  "nbformat": 4,
  "nbformat_minor": 0,
  "metadata": {
    "colab": {
      "name": "012_RapGeneration_BiDirectional_LSTM.ipynb",
      "provenance": []
    },
    "kernelspec": {
      "name": "python3",
      "display_name": "Python 3"
    },
    "language_info": {
      "name": "python"
    },
    "accelerator": "GPU"
  },
  "cells": [
    {
      "cell_type": "code",
      "metadata": {
        "colab": {
          "base_uri": "https://localhost:8080/"
        },
        "id": "idX8koIjoCca",
        "outputId": "00a7df6b-39ed-4160-e99b-96149cfeb0d7"
      },
      "source": [
        "!nvidia-smi -L"
      ],
      "execution_count": 1,
      "outputs": [
        {
          "output_type": "stream",
          "text": [
            "GPU 0: Tesla K80 (UUID: GPU-590e201b-4f78-fe47-daf6-d571ca73c3a0)\n"
          ],
          "name": "stdout"
        }
      ]
    },
    {
      "cell_type": "code",
      "metadata": {
        "id": "PiSe8Cu3nFgl"
      },
      "source": [
        "from tensorflow.keras.preprocessing.sequence import pad_sequences\n",
        "from tensorflow.keras.layers import Embedding, LSTM, Dense, Dropout, Bidirectional\n",
        "from tensorflow.keras.preprocessing.text import Tokenizer\n",
        "from tensorflow.keras.models import Sequential\n",
        "from tensorflow.keras.optimizers import Adam\n",
        "from tensorflow.keras import regularizers\n",
        "import tensorflow.keras.utils as ku \n",
        "import numpy as np"
      ],
      "execution_count": 2,
      "outputs": []
    },
    {
      "cell_type": "code",
      "metadata": {
        "colab": {
          "base_uri": "https://localhost:8080/"
        },
        "id": "s2u_iJggnTB5",
        "outputId": "b540786a-882e-41f4-c2f7-0e51ca4d9ec0"
      },
      "source": [
        "!wget --no-check-certificate \\\n",
        "    https://storage.googleapis.com/laurencemoroney-blog.appspot.com/sonnets.txt \\\n",
        "    -O /tmp/sonnets.txt"
      ],
      "execution_count": 3,
      "outputs": [
        {
          "output_type": "stream",
          "text": [
            "--2021-03-22 10:45:00--  https://storage.googleapis.com/laurencemoroney-blog.appspot.com/sonnets.txt\n",
            "Resolving storage.googleapis.com (storage.googleapis.com)... 173.194.76.128, 66.102.1.128, 74.125.133.128, ...\n",
            "Connecting to storage.googleapis.com (storage.googleapis.com)|173.194.76.128|:443... connected.\n",
            "HTTP request sent, awaiting response... 200 OK\n",
            "Length: 93578 (91K) [text/plain]\n",
            "Saving to: ‘/tmp/sonnets.txt’\n",
            "\n",
            "/tmp/sonnets.txt    100%[===================>]  91.38K  --.-KB/s    in 0.001s  \n",
            "\n",
            "2021-03-22 10:45:00 (70.8 MB/s) - ‘/tmp/sonnets.txt’ saved [93578/93578]\n",
            "\n"
          ],
          "name": "stdout"
        }
      ]
    },
    {
      "cell_type": "code",
      "metadata": {
        "id": "itGuZO0qnZ_y"
      },
      "source": [
        "data = open('/tmp/sonnets.txt').read()\n",
        "corpus = data.lower().split(\"\\n\")\n",
        "\n",
        "tokenizer = Tokenizer()\n",
        "tokenizer.fit_on_texts(corpus)\n",
        "total_words = len(tokenizer.word_index) + 1\n",
        "\n",
        "input_sequences = []\n",
        "for line in corpus:\n",
        "\ttoken_list = tokenizer.texts_to_sequences([line])[0]\n",
        "\tfor i in range(1, len(token_list)):\n",
        "\t\tn_gram_sequence = token_list[:i+1]\n",
        "\t\tinput_sequences.append(n_gram_sequence)\n",
        "\n",
        "max_sequence_len = max([len(x) for x in input_sequences])\n",
        "input_sequences = np.array(pad_sequences(input_sequences, maxlen=max_sequence_len, padding='pre'))\n",
        "\n",
        "predictors, label = input_sequences[:,:-1],input_sequences[:,-1]\n",
        "\n",
        "label = ku.to_categorical(label, num_classes=total_words)"
      ],
      "execution_count": 4,
      "outputs": []
    },
    {
      "cell_type": "code",
      "metadata": {
        "colab": {
          "base_uri": "https://localhost:8080/"
        },
        "id": "bRuEJC_1neWa",
        "outputId": "d0c82c41-1d41-4c28-a4ef-54b7c240f166"
      },
      "source": [
        "model = Sequential()\n",
        "model.add(Embedding(total_words, 128, input_length=max_sequence_len - 1))\n",
        "model.add(Bidirectional(LSTM(120, return_sequences=True)))\n",
        "model.add(Dropout(0.2))\n",
        "model.add(LSTM(96))\n",
        "model.add(Dense(total_words/2, activation='relu', kernel_regularizer=regularizers.l2(0.01)))\n",
        "model.add(Dense(total_words, activation='softmax'))\n",
        "\n",
        "\n",
        "model.compile( loss='categorical_crossentropy', optimizer='adam', metrics=['accuracy'])\n",
        "model.summary()"
      ],
      "execution_count": 5,
      "outputs": [
        {
          "output_type": "stream",
          "text": [
            "Model: \"sequential\"\n",
            "_________________________________________________________________\n",
            "Layer (type)                 Output Shape              Param #   \n",
            "=================================================================\n",
            "embedding (Embedding)        (None, 10, 128)           411008    \n",
            "_________________________________________________________________\n",
            "bidirectional (Bidirectional (None, 10, 240)           239040    \n",
            "_________________________________________________________________\n",
            "dropout (Dropout)            (None, 10, 240)           0         \n",
            "_________________________________________________________________\n",
            "lstm_1 (LSTM)                (None, 96)                129408    \n",
            "_________________________________________________________________\n",
            "dense (Dense)                (None, 1605)              155685    \n",
            "_________________________________________________________________\n",
            "dense_1 (Dense)              (None, 3211)              5156866   \n",
            "=================================================================\n",
            "Total params: 6,092,007\n",
            "Trainable params: 6,092,007\n",
            "Non-trainable params: 0\n",
            "_________________________________________________________________\n"
          ],
          "name": "stdout"
        }
      ]
    },
    {
      "cell_type": "code",
      "metadata": {
        "colab": {
          "base_uri": "https://localhost:8080/"
        },
        "id": "lb84KA3xnmS6",
        "outputId": "fa78be6b-3fe3-4c4f-9502-4ed9aa540004"
      },
      "source": [
        "history = model.fit(predictors, label, epochs=100, verbose=1)"
      ],
      "execution_count": 6,
      "outputs": [
        {
          "output_type": "stream",
          "text": [
            "Epoch 1/100\n",
            "484/484 [==============================] - 46s 25ms/step - loss: 7.3402 - accuracy: 0.0199\n",
            "Epoch 2/100\n",
            "484/484 [==============================] - 12s 26ms/step - loss: 6.5130 - accuracy: 0.0185\n",
            "Epoch 3/100\n",
            "484/484 [==============================] - 13s 26ms/step - loss: 6.3978 - accuracy: 0.0241\n",
            "Epoch 4/100\n",
            "484/484 [==============================] - 12s 26ms/step - loss: 6.2722 - accuracy: 0.0287\n",
            "Epoch 5/100\n",
            "484/484 [==============================] - 12s 26ms/step - loss: 6.1348 - accuracy: 0.0322\n",
            "Epoch 6/100\n",
            "484/484 [==============================] - 12s 26ms/step - loss: 6.0409 - accuracy: 0.0373\n",
            "Epoch 7/100\n",
            "484/484 [==============================] - 13s 26ms/step - loss: 5.9665 - accuracy: 0.0423\n",
            "Epoch 8/100\n",
            "484/484 [==============================] - 13s 26ms/step - loss: 5.8767 - accuracy: 0.0478\n",
            "Epoch 9/100\n",
            "484/484 [==============================] - 12s 26ms/step - loss: 5.7813 - accuracy: 0.0537\n",
            "Epoch 10/100\n",
            "484/484 [==============================] - 12s 25ms/step - loss: 5.6269 - accuracy: 0.0639\n",
            "Epoch 11/100\n",
            "484/484 [==============================] - 12s 25ms/step - loss: 5.5426 - accuracy: 0.0655\n",
            "Epoch 12/100\n",
            "484/484 [==============================] - 12s 26ms/step - loss: 5.3969 - accuracy: 0.0787\n",
            "Epoch 13/100\n",
            "484/484 [==============================] - 12s 25ms/step - loss: 5.2887 - accuracy: 0.0816\n",
            "Epoch 14/100\n",
            "484/484 [==============================] - 12s 26ms/step - loss: 5.2120 - accuracy: 0.0860\n",
            "Epoch 15/100\n",
            "484/484 [==============================] - 12s 25ms/step - loss: 5.0486 - accuracy: 0.0989\n",
            "Epoch 16/100\n",
            "484/484 [==============================] - 12s 26ms/step - loss: 4.9283 - accuracy: 0.1082\n",
            "Epoch 17/100\n",
            "484/484 [==============================] - 12s 26ms/step - loss: 4.8421 - accuracy: 0.1170\n",
            "Epoch 18/100\n",
            "484/484 [==============================] - 12s 26ms/step - loss: 4.7256 - accuracy: 0.1275\n",
            "Epoch 19/100\n",
            "484/484 [==============================] - 12s 26ms/step - loss: 4.6343 - accuracy: 0.1322\n",
            "Epoch 20/100\n",
            "484/484 [==============================] - 13s 26ms/step - loss: 4.5204 - accuracy: 0.1480\n",
            "Epoch 21/100\n",
            "484/484 [==============================] - 12s 26ms/step - loss: 4.4270 - accuracy: 0.1555\n",
            "Epoch 22/100\n",
            "484/484 [==============================] - 12s 26ms/step - loss: 4.3121 - accuracy: 0.1655\n",
            "Epoch 23/100\n",
            "484/484 [==============================] - 12s 26ms/step - loss: 4.2002 - accuracy: 0.1817\n",
            "Epoch 24/100\n",
            "484/484 [==============================] - 12s 25ms/step - loss: 4.1175 - accuracy: 0.1943\n",
            "Epoch 25/100\n",
            "484/484 [==============================] - 12s 25ms/step - loss: 4.0133 - accuracy: 0.2082\n",
            "Epoch 26/100\n",
            "484/484 [==============================] - 12s 26ms/step - loss: 3.9139 - accuracy: 0.2222\n",
            "Epoch 27/100\n",
            "484/484 [==============================] - 12s 26ms/step - loss: 3.8082 - accuracy: 0.2459\n",
            "Epoch 28/100\n",
            "484/484 [==============================] - 12s 25ms/step - loss: 3.7077 - accuracy: 0.2544\n",
            "Epoch 29/100\n",
            "484/484 [==============================] - 12s 26ms/step - loss: 3.6230 - accuracy: 0.2743\n",
            "Epoch 30/100\n",
            "484/484 [==============================] - 12s 25ms/step - loss: 3.5285 - accuracy: 0.2977\n",
            "Epoch 31/100\n",
            "484/484 [==============================] - 12s 25ms/step - loss: 3.4214 - accuracy: 0.3189\n",
            "Epoch 32/100\n",
            "484/484 [==============================] - 12s 26ms/step - loss: 3.3725 - accuracy: 0.3373\n",
            "Epoch 33/100\n",
            "484/484 [==============================] - 12s 26ms/step - loss: 3.2750 - accuracy: 0.3544\n",
            "Epoch 34/100\n",
            "484/484 [==============================] - 12s 25ms/step - loss: 3.1768 - accuracy: 0.3787\n",
            "Epoch 35/100\n",
            "484/484 [==============================] - 12s 26ms/step - loss: 3.1434 - accuracy: 0.3832\n",
            "Epoch 36/100\n",
            "484/484 [==============================] - 12s 25ms/step - loss: 3.0446 - accuracy: 0.4024\n",
            "Epoch 37/100\n",
            "484/484 [==============================] - 12s 25ms/step - loss: 2.9617 - accuracy: 0.4282\n",
            "Epoch 38/100\n",
            "484/484 [==============================] - 13s 26ms/step - loss: 2.8818 - accuracy: 0.4400\n",
            "Epoch 39/100\n",
            "484/484 [==============================] - 12s 26ms/step - loss: 2.8235 - accuracy: 0.4596\n",
            "Epoch 40/100\n",
            "484/484 [==============================] - 13s 26ms/step - loss: 2.7563 - accuracy: 0.4701\n",
            "Epoch 41/100\n",
            "484/484 [==============================] - 13s 26ms/step - loss: 2.6958 - accuracy: 0.4779\n",
            "Epoch 42/100\n",
            "484/484 [==============================] - 13s 26ms/step - loss: 2.6272 - accuracy: 0.4925\n",
            "Epoch 43/100\n",
            "484/484 [==============================] - 13s 26ms/step - loss: 2.5878 - accuracy: 0.5021\n",
            "Epoch 44/100\n",
            "484/484 [==============================] - 13s 26ms/step - loss: 2.5418 - accuracy: 0.5196\n",
            "Epoch 45/100\n",
            "484/484 [==============================] - 13s 26ms/step - loss: 2.4428 - accuracy: 0.5389\n",
            "Epoch 46/100\n",
            "484/484 [==============================] - 12s 26ms/step - loss: 2.4264 - accuracy: 0.5463\n",
            "Epoch 47/100\n",
            "484/484 [==============================] - 12s 26ms/step - loss: 2.3591 - accuracy: 0.5593\n",
            "Epoch 48/100\n",
            "484/484 [==============================] - 12s 26ms/step - loss: 2.3338 - accuracy: 0.5658\n",
            "Epoch 49/100\n",
            "484/484 [==============================] - 12s 26ms/step - loss: 2.2500 - accuracy: 0.5842\n",
            "Epoch 50/100\n",
            "484/484 [==============================] - 13s 26ms/step - loss: 2.2394 - accuracy: 0.5846\n",
            "Epoch 51/100\n",
            "484/484 [==============================] - 13s 26ms/step - loss: 2.1672 - accuracy: 0.5996\n",
            "Epoch 52/100\n",
            "484/484 [==============================] - 13s 26ms/step - loss: 2.1476 - accuracy: 0.6081\n",
            "Epoch 53/100\n",
            "484/484 [==============================] - 13s 26ms/step - loss: 2.0852 - accuracy: 0.6198\n",
            "Epoch 54/100\n",
            "484/484 [==============================] - 12s 26ms/step - loss: 2.0727 - accuracy: 0.6251\n",
            "Epoch 55/100\n",
            "484/484 [==============================] - 12s 26ms/step - loss: 2.0191 - accuracy: 0.6422\n",
            "Epoch 56/100\n",
            "484/484 [==============================] - 12s 26ms/step - loss: 1.9920 - accuracy: 0.6414\n",
            "Epoch 57/100\n",
            "484/484 [==============================] - 12s 26ms/step - loss: 1.9270 - accuracy: 0.6544\n",
            "Epoch 58/100\n",
            "484/484 [==============================] - 13s 26ms/step - loss: 1.8841 - accuracy: 0.6616\n",
            "Epoch 59/100\n",
            "484/484 [==============================] - 12s 26ms/step - loss: 1.8922 - accuracy: 0.6576\n",
            "Epoch 60/100\n",
            "484/484 [==============================] - 13s 26ms/step - loss: 1.8600 - accuracy: 0.6728\n",
            "Epoch 61/100\n",
            "484/484 [==============================] - 13s 26ms/step - loss: 1.7884 - accuracy: 0.6839\n",
            "Epoch 62/100\n",
            "484/484 [==============================] - 13s 26ms/step - loss: 1.7992 - accuracy: 0.6789\n",
            "Epoch 63/100\n",
            "484/484 [==============================] - 12s 26ms/step - loss: 1.7641 - accuracy: 0.6876\n",
            "Epoch 64/100\n",
            "484/484 [==============================] - 12s 26ms/step - loss: 1.7205 - accuracy: 0.6930\n",
            "Epoch 65/100\n",
            "484/484 [==============================] - 12s 26ms/step - loss: 1.6934 - accuracy: 0.7050\n",
            "Epoch 66/100\n",
            "484/484 [==============================] - 12s 26ms/step - loss: 1.6810 - accuracy: 0.7037\n",
            "Epoch 67/100\n",
            "484/484 [==============================] - 12s 26ms/step - loss: 1.6631 - accuracy: 0.7116\n",
            "Epoch 68/100\n",
            "484/484 [==============================] - 12s 26ms/step - loss: 1.6147 - accuracy: 0.7177\n",
            "Epoch 69/100\n",
            "484/484 [==============================] - 12s 26ms/step - loss: 1.5890 - accuracy: 0.7208\n",
            "Epoch 70/100\n",
            "484/484 [==============================] - 12s 26ms/step - loss: 1.5709 - accuracy: 0.7292\n",
            "Epoch 71/100\n",
            "484/484 [==============================] - 12s 25ms/step - loss: 1.5638 - accuracy: 0.7331\n",
            "Epoch 72/100\n",
            "484/484 [==============================] - 12s 26ms/step - loss: 1.5228 - accuracy: 0.7331\n",
            "Epoch 73/100\n",
            "484/484 [==============================] - 12s 26ms/step - loss: 1.5146 - accuracy: 0.7427\n",
            "Epoch 74/100\n",
            "484/484 [==============================] - 12s 26ms/step - loss: 1.4692 - accuracy: 0.7494\n",
            "Epoch 75/100\n",
            "484/484 [==============================] - 12s 26ms/step - loss: 1.4680 - accuracy: 0.7419\n",
            "Epoch 76/100\n",
            "484/484 [==============================] - 13s 26ms/step - loss: 1.4662 - accuracy: 0.7453\n",
            "Epoch 77/100\n",
            "484/484 [==============================] - 13s 26ms/step - loss: 1.4164 - accuracy: 0.7552\n",
            "Epoch 78/100\n",
            "484/484 [==============================] - 13s 26ms/step - loss: 1.4177 - accuracy: 0.7576\n",
            "Epoch 79/100\n",
            "484/484 [==============================] - 12s 26ms/step - loss: 1.4215 - accuracy: 0.7552\n",
            "Epoch 80/100\n",
            "484/484 [==============================] - 12s 26ms/step - loss: 1.3752 - accuracy: 0.7644\n",
            "Epoch 81/100\n",
            "484/484 [==============================] - 12s 26ms/step - loss: 1.3801 - accuracy: 0.7622\n",
            "Epoch 82/100\n",
            "484/484 [==============================] - 12s 26ms/step - loss: 1.3672 - accuracy: 0.7622\n",
            "Epoch 83/100\n",
            "484/484 [==============================] - 13s 26ms/step - loss: 1.3685 - accuracy: 0.7702\n",
            "Epoch 84/100\n",
            "484/484 [==============================] - 12s 26ms/step - loss: 1.3384 - accuracy: 0.7679\n",
            "Epoch 85/100\n",
            "484/484 [==============================] - 12s 26ms/step - loss: 1.3045 - accuracy: 0.7752\n",
            "Epoch 86/100\n",
            "484/484 [==============================] - 13s 26ms/step - loss: 1.2898 - accuracy: 0.7764\n",
            "Epoch 87/100\n",
            "484/484 [==============================] - 12s 26ms/step - loss: 1.2905 - accuracy: 0.7785\n",
            "Epoch 88/100\n",
            "484/484 [==============================] - 12s 26ms/step - loss: 1.2678 - accuracy: 0.7827\n",
            "Epoch 89/100\n",
            "484/484 [==============================] - 13s 26ms/step - loss: 1.2574 - accuracy: 0.7882\n",
            "Epoch 90/100\n",
            "484/484 [==============================] - 13s 26ms/step - loss: 1.2347 - accuracy: 0.7906\n",
            "Epoch 91/100\n",
            "484/484 [==============================] - 13s 26ms/step - loss: 1.2529 - accuracy: 0.7832\n",
            "Epoch 92/100\n",
            "484/484 [==============================] - 13s 26ms/step - loss: 1.2433 - accuracy: 0.7844\n",
            "Epoch 93/100\n",
            "484/484 [==============================] - 13s 26ms/step - loss: 1.1895 - accuracy: 0.7972\n",
            "Epoch 94/100\n",
            "484/484 [==============================] - 13s 26ms/step - loss: 1.2028 - accuracy: 0.7961\n",
            "Epoch 95/100\n",
            "484/484 [==============================] - 12s 26ms/step - loss: 1.1929 - accuracy: 0.7949\n",
            "Epoch 96/100\n",
            "484/484 [==============================] - 13s 26ms/step - loss: 1.1810 - accuracy: 0.7986\n",
            "Epoch 97/100\n",
            "484/484 [==============================] - 13s 26ms/step - loss: 1.1725 - accuracy: 0.7970\n",
            "Epoch 98/100\n",
            "484/484 [==============================] - 13s 26ms/step - loss: 1.1495 - accuracy: 0.8009\n",
            "Epoch 99/100\n",
            "484/484 [==============================] - 13s 26ms/step - loss: 1.1337 - accuracy: 0.8078\n",
            "Epoch 100/100\n",
            "484/484 [==============================] - 13s 26ms/step - loss: 1.1520 - accuracy: 0.7988\n"
          ],
          "name": "stdout"
        }
      ]
    },
    {
      "cell_type": "code",
      "metadata": {
        "colab": {
          "base_uri": "https://localhost:8080/",
          "height": 227
        },
        "id": "Wd2yJE62nr3N",
        "outputId": "4763d27e-e73a-4fd4-a5e9-1f8d220dfd99"
      },
      "source": [
        "import matplotlib.pyplot as plt\n",
        "acc = history.history['accuracy']\n",
        "loss = history.history['loss']\n",
        "\n",
        "epochs = range(len(acc))\n",
        "\n",
        "plt.figure(figsize=(10,3))\n",
        "plt.subplot(1, 2, 1)\n",
        "plt.plot(epochs, acc, 'b', label='Training accuracy')\n",
        "plt.title('Training accuracy')\n",
        "\n",
        "plt.subplot(1, 2, 2)\n",
        "plt.plot(epochs, loss, 'b', label='Training Loss')\n",
        "plt.title('Training loss')\n",
        "\n",
        "plt.show()"
      ],
      "execution_count": 7,
      "outputs": [
        {
          "output_type": "display_data",
          "data": {
            "image/png": "[encoded data removed]",
            "text/plain": [
              "<Figure size 720x216 with 2 Axes>"
            ]
          },
          "metadata": {
            "tags": [],
            "needs_background": "light"
          }
        }
      ]
    },
    {
      "cell_type": "code",
      "metadata": {
        "colab": {
          "base_uri": "https://localhost:8080/"
        },
        "id": "sHx9Epwynspb",
        "outputId": "9e3ae4d0-9438-448b-f590-0ce1cfc83d02"
      },
      "source": [
        "seed_text = \"I tried so hard and got so far but in the end nothing really matters\"\n",
        "next_words = 100\n",
        "  \n",
        "for _ in range(next_words):\n",
        "\ttoken_list = tokenizer.texts_to_sequences([seed_text])[0]\n",
        "\ttoken_list = pad_sequences([token_list], maxlen=max_sequence_len-1, padding='pre')\n",
        "\tpredicted = model.predict_classes(token_list, verbose=0)\n",
        "\toutput_word = \"\"\n",
        "\tfor word, index in tokenizer.word_index.items():\n",
        "\t\tif index == predicted:\n",
        "\t\t\toutput_word = word\n",
        "\t\t\tbreak\n",
        "\tseed_text += \" \" + output_word\n",
        "\n",
        "print(seed_text)"
      ],
      "execution_count": 10,
      "outputs": [
        {
          "output_type": "stream",
          "text": [
            "/usr/local/lib/python3.7/dist-packages/tensorflow/python/keras/engine/sequential.py:450: UserWarning: `model.predict_classes()` is deprecated and will be removed after 2021-01-01. Please use instead:* `np.argmax(model.predict(x), axis=-1)`,   if your model does multi-class classification   (e.g. if it uses a `softmax` last-layer activation).* `(model.predict(x) > 0.5).astype(\"int32\")`,   if your model does binary classification   (e.g. if it uses a `sigmoid` last-layer activation).\n",
            "  warnings.warn('`model.predict_classes()` is deprecated and '\n"
          ],
          "name": "stderr"
        },
        {
          "output_type": "stream",
          "text": [
            "I tried so hard and got so far but in the end nothing really matters faith die stay there twain about stand down in pride of every brow clearer light light light mad cured decays brought new borrow'd back once prove in me bright hell new words possess'd in pleasure die bright young hence pain thee thee behind foes rare cheeks ' live still so bad doth bright ill short or store them words cured taken bred back up grew mind up decease after dead dwells faith torn behind mind green mind mind mind skill mind gain days had shine back doth days untrue dwell ' ill twain confounds forth shame words so belong twain\n"
          ],
          "name": "stdout"
        }
      ]
    }
  ]
}