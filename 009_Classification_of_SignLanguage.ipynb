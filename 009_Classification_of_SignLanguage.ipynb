{
  "nbformat": 4,
  "nbformat_minor": 0,
  "metadata": {
    "colab": {
      "name": "009_Classification_of_SignLanguage.ipynb",
      "provenance": [],
      "collapsed_sections": []
    },
    "kernelspec": {
      "name": "python3",
      "display_name": "Python 3"
    },
    "accelerator": "GPU"
  },
  "cells": [
    {
      "cell_type": "code",
      "metadata": {
        "colab": {
          "base_uri": "https://localhost:8080/"
        },
        "id": "0eWfZnAWjn9E",
        "outputId": "372ee450-1c26-4d90-9b86-371fa8acfe19"
      },
      "source": [
        "!nvidia-smi -L"
      ],
      "execution_count": 1,
      "outputs": [
        {
          "output_type": "stream",
          "text": [
            "GPU 0: Tesla T4 (UUID: GPU-8d66664c-a822-62b5-a5b0-d3292cd47c44)\n"
          ],
          "name": "stdout"
        }
      ]
    },
    {
      "cell_type": "code",
      "metadata": {
        "colab": {
          "base_uri": "https://localhost:8080/"
        },
        "id": "1RcDl5jEkaKQ",
        "outputId": "568d823a-96be-4ae3-847f-bff9da02eaa6"
      },
      "source": [
        "from googleapiclient.discovery import build\r\n",
        "import io, os\r\n",
        "from googleapiclient.http import MediaIoBaseDownload\r\n",
        "from google.colab import auth\r\n",
        "auth.authenticate_user()\r\n",
        "drive_service = build('drive', 'v3')\r\n",
        "results = drive_service.files().list(\r\n",
        "        q=\"name = 'kaggle.json'\", fields=\"files(id)\").execute()\r\n",
        "kaggle_api_key = results.get('files', [])\r\n",
        "filename = \"/root/.kaggle/kaggle.json\"  # NOTE: This is different from the Medium post!\r\n",
        "os.makedirs(os.path.dirname(filename), exist_ok=True)\r\n",
        "request = drive_service.files().get_media(fileId=kaggle_api_key[0]['id'])\r\n",
        "fh = io.FileIO(filename, 'wb')\r\n",
        "downloader = MediaIoBaseDownload(fh, request)\r\n",
        "done = False\r\n",
        "while done is False:\r\n",
        "    status, done = downloader.next_chunk()\r\n",
        "    print(\"Download %d%%.\" % int(status.progress() * 100))\r\n",
        "os.chmod(filename, 600)"
      ],
      "execution_count": 2,
      "outputs": [
        {
          "output_type": "stream",
          "text": [
            "Download 100%.\n"
          ],
          "name": "stdout"
        }
      ]
    },
    {
      "cell_type": "code",
      "metadata": {
        "colab": {
          "base_uri": "https://localhost:8080/"
        },
        "id": "UvJ6y_UKkd6B",
        "outputId": "7b41d6d2-949c-404e-8c57-160cd7b0c120"
      },
      "source": [
        "!kaggle datasets download -d datamunge/sign-language-mnist"
      ],
      "execution_count": 3,
      "outputs": [
        {
          "output_type": "stream",
          "text": [
            "Downloading sign-language-mnist.zip to /content\n",
            " 78% 49.0M/62.6M [00:00<00:00, 103MB/s] \n",
            "100% 62.6M/62.6M [00:00<00:00, 128MB/s]\n"
          ],
          "name": "stdout"
        }
      ]
    },
    {
      "cell_type": "code",
      "metadata": {
        "colab": {
          "base_uri": "https://localhost:8080/"
        },
        "id": "hOSOjim6ksve",
        "outputId": "ddb477ca-1a79-4b6d-9384-7355a397942e"
      },
      "source": [
        "!unzip \\sign-language-mnist.zip"
      ],
      "execution_count": 5,
      "outputs": [
        {
          "output_type": "stream",
          "text": [
            "Archive:  sign-language-mnist.zip\n",
            "  inflating: amer_sign2.png          \n",
            "  inflating: amer_sign3.png          \n",
            "  inflating: american_sign_language.PNG  \n",
            "  inflating: sign_mnist_test.csv     \n",
            "  inflating: sign_mnist_test/sign_mnist_test.csv  \n",
            "  inflating: sign_mnist_train.csv    \n",
            "  inflating: sign_mnist_train/sign_mnist_train.csv  \n"
          ],
          "name": "stdout"
        }
      ]
    },
    {
      "cell_type": "code",
      "metadata": {
        "id": "E_0fG0jFk2z_"
      },
      "source": [
        "import csv\r\n",
        "import numpy as np\r\n",
        "import tensorflow as tf\r\n",
        "from tensorflow.keras.preprocessing.image import ImageDataGenerator\r\n",
        "from google.colab import files\r\n",
        "\r\n",
        "def extract_data(filename):\r\n",
        "\r\n",
        "    with open(filename) as training_file:\r\n",
        "        reader = csv.reader(training_file, delimiter=',')    \r\n",
        "        imgs = []\r\n",
        "        labels = []\r\n",
        "\r\n",
        "        next(reader, None)\r\n",
        "        \r\n",
        "        for row in reader:\r\n",
        "            label = row[0]\r\n",
        "            data = row[1:]\r\n",
        "            img = np.array(data).reshape((28, 28))\r\n",
        "\r\n",
        "            imgs.append(img)\r\n",
        "            labels.append(label)\r\n",
        "\r\n",
        "        images = np.array(imgs).astype(float)\r\n",
        "        labels = np.array(labels).astype(float)\r\n",
        "            \r\n",
        "    return images, labels\r\n",
        "\r\n",
        "\r\n",
        "trainingImages, trainingLabels = extract_data('sign_mnist_train.csv')\r\n",
        "testingImages, testingLabels = extract_data('sign_mnist_test.csv')"
      ],
      "execution_count": 15,
      "outputs": []
    },
    {
      "cell_type": "code",
      "metadata": {
        "id": "GPbzz31qlmoX"
      },
      "source": [
        "trainingImages = np.expand_dims(trainingImages, axis = 3)\r\n",
        "testingImages = np.expand_dims(testingImages, axis = 3)\r\n",
        "\r\n",
        "train_datagen = ImageDataGenerator(\r\n",
        "    rescale = 1.0/255.0,\r\n",
        "    rotation_range = 40,\r\n",
        "    width_shift_range = 0.2,\r\n",
        "    height_shift_range = 0.2,\r\n",
        "    shear_range = 0.2,\r\n",
        "    zoom_range = 0.2,\r\n",
        "    horizontal_flip = True,\r\n",
        "    fill_mode = 'nearest')\r\n",
        "\r\n",
        "validation_datagen = ImageDataGenerator( rescale =  1.0/255.0)"
      ],
      "execution_count": 16,
      "outputs": []
    },
    {
      "cell_type": "code",
      "metadata": {
        "id": "6FWOR5AAj5TR"
      },
      "source": [
        "train_gen = train_datagen.flow( trainingImages, trainingLabels, batch_size = 64 )\r\n",
        "val_gen = validation_datagen.flow( testingImages, testingLabels, batch_size = 64 )"
      ],
      "execution_count": 17,
      "outputs": []
    },
    {
      "cell_type": "code",
      "metadata": {
        "colab": {
          "base_uri": "https://localhost:8080/"
        },
        "id": "aryV64PNmyWj",
        "outputId": "94caba14-f655-471d-8a54-19a011e2d132"
      },
      "source": [
        "model = tf.keras.models.Sequential()\r\n",
        "\r\n",
        "model.add(tf.keras.layers.Conv2D(32, (3,3), activation='relu', input_shape=(28, 28, 1)))\r\n",
        "model.add(tf.keras.layers.MaxPooling2D(2,2))\r\n",
        "model.add(tf.keras.layers.Conv2D(32, (3,3), activation='relu'))\r\n",
        "model.add(tf.keras.layers.MaxPooling2D(2,2))\r\n",
        "model.add(tf.keras.layers.Flatten())\r\n",
        "model.add(tf.keras.layers.Dense(512, activation='relu'))\r\n",
        "model.add(tf.keras.layers.Dense(26, activation='softmax'))\r\n",
        "\r\n",
        "model.compile( optimizer = 'adam', loss = 'sparse_categorical_crossentropy', metrics = ['accuracy'])\r\n",
        "\r\n",
        "model.summary()"
      ],
      "execution_count": 22,
      "outputs": [
        {
          "output_type": "stream",
          "text": [
            "Model: \"sequential_2\"\n",
            "_________________________________________________________________\n",
            "Layer (type)                 Output Shape              Param #   \n",
            "=================================================================\n",
            "conv2d_2 (Conv2D)            (None, 26, 26, 32)        320       \n",
            "_________________________________________________________________\n",
            "max_pooling2d_2 (MaxPooling2 (None, 13, 13, 32)        0         \n",
            "_________________________________________________________________\n",
            "conv2d_3 (Conv2D)            (None, 11, 11, 32)        9248      \n",
            "_________________________________________________________________\n",
            "max_pooling2d_3 (MaxPooling2 (None, 5, 5, 32)          0         \n",
            "_________________________________________________________________\n",
            "flatten_1 (Flatten)          (None, 800)               0         \n",
            "_________________________________________________________________\n",
            "dense_2 (Dense)              (None, 512)               410112    \n",
            "_________________________________________________________________\n",
            "dense_3 (Dense)              (None, 26)                13338     \n",
            "=================================================================\n",
            "Total params: 433,018\n",
            "Trainable params: 433,018\n",
            "Non-trainable params: 0\n",
            "_________________________________________________________________\n"
          ],
          "name": "stdout"
        }
      ]
    },
    {
      "cell_type": "code",
      "metadata": {
        "colab": {
          "base_uri": "https://localhost:8080/"
        },
        "id": "nb73ZNmhnUvH",
        "outputId": "e0edba9b-67dc-43ed-b0e8-18c0bb45e168"
      },
      "source": [
        "history = model.fit_generator( train_gen, epochs = 30, validation_data = val_gen)\r\n",
        "model.evaluate(testingImages, testingLabels)"
      ],
      "execution_count": 23,
      "outputs": [
        {
          "output_type": "stream",
          "text": [
            "/usr/local/lib/python3.7/dist-packages/tensorflow/python/keras/engine/training.py:1844: UserWarning: `Model.fit_generator` is deprecated and will be removed in a future version. Please use `Model.fit`, which supports generators.\n",
            "  warnings.warn('`Model.fit_generator` is deprecated and '\n"
          ],
          "name": "stderr"
        },
        {
          "output_type": "stream",
          "text": [
            "Epoch 1/30\n",
            "429/429 [==============================] - 8s 19ms/step - loss: 3.0286 - accuracy: 0.0968 - val_loss: 2.1067 - val_accuracy: 0.3005\n",
            "Epoch 2/30\n",
            "429/429 [==============================] - 8s 18ms/step - loss: 2.2131 - accuracy: 0.3043 - val_loss: 1.2959 - val_accuracy: 0.5733\n",
            "Epoch 3/30\n",
            "429/429 [==============================] - 8s 19ms/step - loss: 1.7727 - accuracy: 0.4333 - val_loss: 1.1098 - val_accuracy: 0.6120\n",
            "Epoch 4/30\n",
            "429/429 [==============================] - 8s 19ms/step - loss: 1.4769 - accuracy: 0.5212 - val_loss: 0.9216 - val_accuracy: 0.6874\n",
            "Epoch 5/30\n",
            "429/429 [==============================] - 8s 19ms/step - loss: 1.2769 - accuracy: 0.5829 - val_loss: 0.7490 - val_accuracy: 0.7557\n",
            "Epoch 6/30\n",
            "429/429 [==============================] - 8s 19ms/step - loss: 1.0938 - accuracy: 0.6475 - val_loss: 0.7917 - val_accuracy: 0.7474\n",
            "Epoch 7/30\n",
            "429/429 [==============================] - 8s 18ms/step - loss: 0.9963 - accuracy: 0.6716 - val_loss: 0.6456 - val_accuracy: 0.7800\n",
            "Epoch 8/30\n",
            "429/429 [==============================] - 8s 18ms/step - loss: 0.8933 - accuracy: 0.7081 - val_loss: 0.5048 - val_accuracy: 0.8229\n",
            "Epoch 9/30\n",
            "429/429 [==============================] - 8s 18ms/step - loss: 0.8184 - accuracy: 0.7293 - val_loss: 0.4402 - val_accuracy: 0.8413\n",
            "Epoch 10/30\n",
            "429/429 [==============================] - 8s 18ms/step - loss: 0.7534 - accuracy: 0.7504 - val_loss: 0.4355 - val_accuracy: 0.8507\n",
            "Epoch 11/30\n",
            "429/429 [==============================] - 8s 19ms/step - loss: 0.7169 - accuracy: 0.7632 - val_loss: 0.3917 - val_accuracy: 0.8716\n",
            "Epoch 12/30\n",
            "429/429 [==============================] - 8s 19ms/step - loss: 0.6482 - accuracy: 0.7820 - val_loss: 0.3797 - val_accuracy: 0.8579\n",
            "Epoch 13/30\n",
            "429/429 [==============================] - 8s 19ms/step - loss: 0.6200 - accuracy: 0.7929 - val_loss: 0.3055 - val_accuracy: 0.8925\n",
            "Epoch 14/30\n",
            "429/429 [==============================] - 8s 19ms/step - loss: 0.5713 - accuracy: 0.8082 - val_loss: 0.3242 - val_accuracy: 0.8873\n",
            "Epoch 15/30\n",
            "429/429 [==============================] - 8s 18ms/step - loss: 0.5644 - accuracy: 0.8132 - val_loss: 0.3046 - val_accuracy: 0.8809\n",
            "Epoch 16/30\n",
            "429/429 [==============================] - 8s 19ms/step - loss: 0.5219 - accuracy: 0.8261 - val_loss: 0.2754 - val_accuracy: 0.9038\n",
            "Epoch 17/30\n",
            "429/429 [==============================] - 8s 18ms/step - loss: 0.4973 - accuracy: 0.8319 - val_loss: 0.3216 - val_accuracy: 0.8818\n",
            "Epoch 18/30\n",
            "429/429 [==============================] - 8s 18ms/step - loss: 0.4725 - accuracy: 0.8424 - val_loss: 0.2187 - val_accuracy: 0.9119\n",
            "Epoch 19/30\n",
            "429/429 [==============================] - 8s 19ms/step - loss: 0.4543 - accuracy: 0.8494 - val_loss: 0.1909 - val_accuracy: 0.9332\n",
            "Epoch 20/30\n",
            "429/429 [==============================] - 8s 18ms/step - loss: 0.4167 - accuracy: 0.8636 - val_loss: 0.1864 - val_accuracy: 0.9414\n",
            "Epoch 21/30\n",
            "429/429 [==============================] - 8s 18ms/step - loss: 0.4237 - accuracy: 0.8553 - val_loss: 0.1763 - val_accuracy: 0.9384\n",
            "Epoch 22/30\n",
            "429/429 [==============================] - 8s 18ms/step - loss: 0.3945 - accuracy: 0.8692 - val_loss: 0.1904 - val_accuracy: 0.9335\n",
            "Epoch 23/30\n",
            "429/429 [==============================] - 8s 18ms/step - loss: 0.3745 - accuracy: 0.8768 - val_loss: 0.3193 - val_accuracy: 0.8932\n",
            "Epoch 24/30\n",
            "429/429 [==============================] - 8s 19ms/step - loss: 0.3870 - accuracy: 0.8708 - val_loss: 0.2003 - val_accuracy: 0.9267\n",
            "Epoch 25/30\n",
            "429/429 [==============================] - 8s 18ms/step - loss: 0.3612 - accuracy: 0.8832 - val_loss: 0.2150 - val_accuracy: 0.9204\n",
            "Epoch 26/30\n",
            "429/429 [==============================] - 8s 19ms/step - loss: 0.3543 - accuracy: 0.8815 - val_loss: 0.1621 - val_accuracy: 0.9477\n",
            "Epoch 27/30\n",
            "429/429 [==============================] - 8s 19ms/step - loss: 0.3316 - accuracy: 0.8884 - val_loss: 0.1646 - val_accuracy: 0.9430\n",
            "Epoch 28/30\n",
            "429/429 [==============================] - 8s 19ms/step - loss: 0.3251 - accuracy: 0.8941 - val_loss: 0.2298 - val_accuracy: 0.9062\n",
            "Epoch 29/30\n",
            "429/429 [==============================] - 8s 18ms/step - loss: 0.3357 - accuracy: 0.8883 - val_loss: 0.2015 - val_accuracy: 0.9304\n",
            "Epoch 30/30\n",
            "429/429 [==============================] - 8s 18ms/step - loss: 0.3252 - accuracy: 0.8961 - val_loss: 0.1521 - val_accuracy: 0.9463\n",
            "225/225 [==============================] - 1s 2ms/step - loss: 233.9915 - accuracy: 0.6665\n"
          ],
          "name": "stdout"
        },
        {
          "output_type": "execute_result",
          "data": {
            "text/plain": [
              "[233.99154663085938, 0.6664807796478271]"
            ]
          },
          "metadata": {
            "tags": []
          },
          "execution_count": 23
        }
      ]
    },
    {
      "cell_type": "code",
      "metadata": {
        "colab": {
          "base_uri": "https://localhost:8080/",
          "height": 336
        },
        "id": "CvkBorqfoDB6",
        "outputId": "7c7f63e5-cb8b-472f-a579-97ca87f8504f"
      },
      "source": [
        "import matplotlib.pyplot as plt\r\n",
        "\r\n",
        "accuracy = history.history['accuracy']\r\n",
        "val_accuracy = history.history['val_accuracy']\r\n",
        "loss = history.history['loss']\r\n",
        "val_loss = history.history['val_loss']\r\n",
        "\r\n",
        "epochs = range(len(accuracy))\r\n",
        "\r\n",
        "plt.figure(figsize=(10,5))\r\n",
        "plt.subplot(1, 2, 1)\r\n",
        "plt.plot(epochs, accuracy, 'r', label='Training accuracy')\r\n",
        "plt.plot(epochs, val_accuracy, 'b', label='Validation accuracy')\r\n",
        "plt.title('Training and validation accuracy')\r\n",
        "plt.legend()\r\n",
        "\r\n",
        "plt.subplot(1, 2, 2)\r\n",
        "plt.plot(epochs, loss, 'r', label='Training Loss')\r\n",
        "plt.plot(epochs, val_loss, 'b', label='Validation Loss')\r\n",
        "plt.title('Training and validation loss')\r\n",
        "plt.legend()\r\n",
        "\r\n",
        "plt.show()"
      ],
      "execution_count": 26,
      "outputs": [
        {
          "output_type": "display_data",
          "data": {
            "image/png": "[encoded data removed]",
            "text/plain": [
              "<Figure size 720x360 with 2 Axes>"
            ]
          },
          "metadata": {
            "tags": [],
            "needs_background": "light"
          }
        }
      ]
    }
  ]
}