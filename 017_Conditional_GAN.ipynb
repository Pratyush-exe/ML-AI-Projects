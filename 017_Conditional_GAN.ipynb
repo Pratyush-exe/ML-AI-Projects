{
  "nbformat": 4,
  "nbformat_minor": 0,
  "metadata": {
    "colab": {
      "name": "017_Conditional_GAN.ipynb",
      "provenance": [],
      "collapsed_sections": []
    },
    "kernelspec": {
      "name": "python3",
      "display_name": "Python 3"
    },
    "language_info": {
      "name": "python"
    },
    "accelerator": "GPU"
  },
  "cells": [
    {
      "cell_type": "markdown",
      "metadata": {
        "id": "jz9_ZLArf7Sl"
      },
      "source": [
        "Conditional GAN makes us choose what number to be generated in MNIST dataset (For example)"
      ]
    },
    {
      "cell_type": "code",
      "metadata": {
        "id": "7Lxz5ILFfoue"
      },
      "source": [
        "!nvidia-smi -L"
      ],
      "execution_count": null,
      "outputs": []
    },
    {
      "cell_type": "code",
      "metadata": {
        "id": "PbGRtOtigLgf"
      },
      "source": [
        "import torch\n",
        "from torch import nn\n",
        "from tqdm.auto import tqdm\n",
        "from torchvision import transforms\n",
        "from torchvision.datasets import MNIST\n",
        "from torchvision.utils import make_grid\n",
        "from torch.utils.data import DataLoader\n",
        "import matplotlib.pyplot as plt\n",
        "torch.manual_seed(0)\n",
        "\n",
        "def show_tensor_images(image_tensor, num_images=25, size=(1, 28, 28), nrow=5, show=True):\n",
        "    image_tensor = (image_tensor + 1) / 2\n",
        "    image_unflat = image_tensor.detach().cpu()\n",
        "    image_grid = make_grid(image_unflat[:num_images], nrow=nrow)\n",
        "    plt.imshow(image_grid.permute(1, 2, 0).squeeze())\n",
        "    if show:\n",
        "        plt.show()"
      ],
      "execution_count": null,
      "outputs": []
    },
    {
      "cell_type": "code",
      "metadata": {
        "id": "pDwsNk5SgNLJ"
      },
      "source": [
        "class Generator(nn.Module):\n",
        "    def __init__(self, input_dim=10, im_chan=1, hidden_dim=64):\n",
        "        super(Generator, self).__init__()\n",
        "        self.input_dim = input_dim\n",
        "        \n",
        "        self.gen = nn.Sequential(\n",
        "            self.make_gen_block(input_dim, hidden_dim * 4),\n",
        "            self.make_gen_block(hidden_dim * 4, hidden_dim * 2, kernel_size=4, stride=1),\n",
        "            self.make_gen_block(hidden_dim * 2, hidden_dim),\n",
        "            self.make_gen_block(hidden_dim, im_chan, kernel_size=4, final_layer=True),\n",
        "        )\n",
        "\n",
        "    def make_gen_block(self, input_channels, output_channels, kernel_size=3, stride=2, final_layer=False):\n",
        "        if not final_layer:\n",
        "            return nn.Sequential(\n",
        "                nn.ConvTranspose2d(input_channels, output_channels, kernel_size, stride),\n",
        "                nn.BatchNorm2d(output_channels),\n",
        "                nn.ReLU(inplace=True),\n",
        "            )\n",
        "        else:\n",
        "            return nn.Sequential(\n",
        "                nn.ConvTranspose2d(input_channels, output_channels, kernel_size, stride),\n",
        "                nn.Tanh(),\n",
        "            )\n",
        "\n",
        "    def forward(self, noise):\n",
        "        x = noise.view(len(noise), self.input_dim, 1, 1)\n",
        "        return self.gen(x)\n",
        "\n",
        "def get_noise(n_samples, input_dim, device='cpu'):\n",
        "    return torch.randn(n_samples, input_dim, device=device)"
      ],
      "execution_count": null,
      "outputs": []
    },
    {
      "cell_type": "code",
      "metadata": {
        "id": "-pF5wz0PgU0Q"
      },
      "source": [
        "class Discriminator(nn.Module):\n",
        "    def __init__(self, im_chan=1, hidden_dim=64):\n",
        "        super(Discriminator, self).__init__()\n",
        "        self.disc = nn.Sequential(\n",
        "            self.make_disc_block(im_chan, hidden_dim),\n",
        "            self.make_disc_block(hidden_dim, hidden_dim * 2),\n",
        "            self.make_disc_block(hidden_dim * 2, 1, final_layer=True),\n",
        "        )\n",
        "\n",
        "    def make_disc_block(self, input_channels, output_channels, kernel_size=4, stride=2, final_layer=False):\n",
        "        if not final_layer:\n",
        "            return nn.Sequential(\n",
        "                nn.Conv2d(input_channels, output_channels, kernel_size, stride),\n",
        "                nn.BatchNorm2d(output_channels),\n",
        "                nn.LeakyReLU(0.2, inplace=True),\n",
        "            )\n",
        "        else:\n",
        "            return nn.Sequential(\n",
        "                nn.Conv2d(input_channels, output_channels, kernel_size, stride),\n",
        "            )\n",
        "\n",
        "    def forward(self, image):\n",
        "        disc_pred = self.disc(image)\n",
        "        return disc_pred.view(len(disc_pred), -1)"
      ],
      "execution_count": null,
      "outputs": []
    },
    {
      "cell_type": "code",
      "metadata": {
        "id": "Y7QfkzPQggTj"
      },
      "source": [
        "import torch.nn.functional as F\n",
        "def get_one_hot_labels(labels, n_classes):\n",
        "    return F.one_hot(labels, num_classes= n_classes)"
      ],
      "execution_count": null,
      "outputs": []
    },
    {
      "cell_type": "code",
      "metadata": {
        "id": "_c4w1tTkglx4"
      },
      "source": [
        "def combine_vectors(x, y):\n",
        "    combined = torch.cat((x.float(),y.float()),1)\n",
        "    return combined"
      ],
      "execution_count": null,
      "outputs": []
    },
    {
      "cell_type": "code",
      "metadata": {
        "id": "7hB6h7iEgqs7"
      },
      "source": [
        "mnist_shape = (1, 28, 28)\n",
        "n_classes = 10"
      ],
      "execution_count": null,
      "outputs": []
    },
    {
      "cell_type": "code",
      "metadata": {
        "id": "_bRuQHlnguV_"
      },
      "source": [
        "criterion = nn.BCEWithLogitsLoss()\n",
        "n_epochs = 200\n",
        "z_dim = 64\n",
        "display_step = 500\n",
        "batch_size = 128\n",
        "lr = 0.0002\n",
        "device = 'cuda'\n",
        "\n",
        "transform = transforms.Compose([\n",
        "    transforms.ToTensor(),\n",
        "    transforms.Normalize((0.5,), (0.5,)),\n",
        "])\n",
        "\n",
        "dataloader = DataLoader(\n",
        "    MNIST('.', download=True, transform=transform),\n",
        "    batch_size=batch_size,\n",
        "    shuffle=True)\n"
      ],
      "execution_count": null,
      "outputs": []
    },
    {
      "cell_type": "code",
      "metadata": {
        "id": "wS1z1wR0gyhn"
      },
      "source": [
        "def get_input_dimensions(z_dim, mnist_shape, n_classes):\n",
        "    generator_input_dim = z_dim + n_classes\n",
        "    discriminator_im_chan = mnist_shape[0] + n_classes\n",
        "    return generator_input_dim, discriminator_im_chan"
      ],
      "execution_count": null,
      "outputs": []
    },
    {
      "cell_type": "code",
      "metadata": {
        "id": "5Vs1sw4qg2J-"
      },
      "source": [
        "generator_input_dim, discriminator_im_chan = get_input_dimensions(z_dim, mnist_shape, n_classes)\n",
        "\n",
        "gen = Generator(input_dim=generator_input_dim).to(device)\n",
        "gen_opt = torch.optim.Adam(gen.parameters(), lr=lr)\n",
        "disc = Discriminator(im_chan=discriminator_im_chan).to(device)\n",
        "disc_opt = torch.optim.Adam(disc.parameters(), lr=lr)\n",
        "\n",
        "def weights_init(m):\n",
        "    if isinstance(m, nn.Conv2d) or isinstance(m, nn.ConvTranspose2d):\n",
        "        torch.nn.init.normal_(m.weight, 0.0, 0.02)\n",
        "    if isinstance(m, nn.BatchNorm2d):\n",
        "        torch.nn.init.normal_(m.weight, 0.0, 0.02)\n",
        "        torch.nn.init.constant_(m.bias, 0)\n",
        "gen = gen.apply(weights_init)\n",
        "disc = disc.apply(weights_init)"
      ],
      "execution_count": null,
      "outputs": []
    },
    {
      "cell_type": "code",
      "metadata": {
        "id": "mjooCM-bg50y"
      },
      "source": [
        "cur_step = 0\n",
        "generator_losses = []\n",
        "discriminator_losses = []\n",
        "noise_and_labels = False\n",
        "fake = False\n",
        "\n",
        "fake_image_and_labels = False\n",
        "real_image_and_labels = False\n",
        "disc_fake_pred = False\n",
        "disc_real_pred = False\n",
        "\n",
        "for epoch in range(n_epochs):\n",
        "    for real, labels in tqdm(dataloader):\n",
        "        cur_batch_size = len(real)\n",
        "        real = real.to(device)\n",
        "\n",
        "        one_hot_labels = get_one_hot_labels(labels.to(device), n_classes)\n",
        "        image_one_hot_labels = one_hot_labels[:, :, None, None]\n",
        "        image_one_hot_labels = image_one_hot_labels.repeat(1, 1, mnist_shape[1], mnist_shape[2])\n",
        "\n",
        "        disc_opt.zero_grad()\n",
        "        fake_noise = get_noise(cur_batch_size, z_dim, device=device\n",
        "        noise_and_labels = combine_vectors(fake_noise, one_hot_labels)\n",
        "        fake = gen(noise_and_labels)\n",
        "        assert len(fake) == len(real)\n",
        "        fake_image_and_labels = combine_vectors(fake, image_one_hot_labels)\n",
        "        real_image_and_labels = combine_vectors(real, image_one_hot_labels)\n",
        "        disc_fake_pred = disc(fake_image_and_labels.detach())\n",
        "        disc_real_pred = disc(real_image_and_labels)\n",
        "\n",
        "        assert len(disc_real_pred) == len(real)\n",
        "        assert torch.any(fake_image_and_labels != real_image_and_labels)\n",
        "\n",
        "        disc_fake_loss = criterion(disc_fake_pred, torch.zeros_like(disc_fake_pred))\n",
        "        disc_real_loss = criterion(disc_real_pred, torch.ones_like(disc_real_pred))\n",
        "        disc_loss = (disc_fake_loss + disc_real_loss) / 2\n",
        "        disc_loss.backward(retain_graph=True)\n",
        "        disc_opt.step() \n",
        "\n",
        "        discriminator_losses += [disc_loss.item()]\n",
        "\n",
        "        gen_opt.zero_grad()\n",
        "\n",
        "        fake_image_and_labels = combine_vectors(fake, image_one_hot_labels)\n",
        "        disc_fake_pred = disc(fake_image_and_labels)\n",
        "        gen_loss = criterion(disc_fake_pred, torch.ones_like(disc_fake_pred))\n",
        "        gen_loss.backward()\n",
        "        gen_opt.step()\n",
        "\n",
        "        generator_losses += [gen_loss.item()]\n",
        "\n",
        "        if cur_step % display_step == 0 and cur_step > 0:\n",
        "            gen_mean = sum(generator_losses[-display_step:]) / display_step\n",
        "            disc_mean = sum(discriminator_losses[-display_step:]) / display_step\n",
        "            print(f\"Step {cur_step}: Generator loss: {gen_mean}, discriminator loss: {disc_mean}\")\n",
        "            show_tensor_images(fake)\n",
        "            show_tensor_images(real)\n",
        "            step_bins = 20\n",
        "            x_axis = sorted([i * step_bins for i in range(len(generator_losses) // step_bins)] * step_bins)\n",
        "            num_examples = (len(generator_losses) // step_bins) * step_bins\n",
        "            plt.plot(\n",
        "                range(num_examples // step_bins), \n",
        "                torch.Tensor(generator_losses[:num_examples]).view(-1, step_bins).mean(1),\n",
        "                label=\"Generator Loss\"\n",
        "            )\n",
        "            plt.plot(\n",
        "                range(num_examples // step_bins), \n",
        "                torch.Tensor(discriminator_losses[:num_examples]).view(-1, step_bins).mean(1),\n",
        "                label=\"Discriminator Loss\"\n",
        "            )\n",
        "            plt.legend()\n",
        "            plt.show()\n",
        "        elif cur_step == 0:\n",
        "            print(\"Congratulations! If you've gotten here, it's working. Please let this train until you're happy with how the generated numbers look, and then go on to the exploration!\")\n",
        "        cur_step += 1"
      ],
      "execution_count": null,
      "outputs": []
    },
    {
      "cell_type": "markdown",
      "metadata": {
        "id": "hCbYOJIphaZ4"
      },
      "source": [
        "## Explore"
      ]
    },
    {
      "cell_type": "code",
      "metadata": {
        "id": "7US_pwIEhXkg"
      },
      "source": [
        "gen = gen.eval()"
      ],
      "execution_count": null,
      "outputs": []
    },
    {
      "cell_type": "code",
      "metadata": {
        "id": "HiDFouMDhfn4"
      },
      "source": [
        "import math\n",
        "\n",
        "n_interpolation = 9\n",
        "interpolation_noise = get_noise(1, z_dim, device=device).repeat(n_interpolation, 1)\n",
        "\n",
        "def interpolate_class(first_number, second_number):\n",
        "    first_label = get_one_hot_labels(torch.Tensor([first_number]).long(), n_classes)\n",
        "    second_label = get_one_hot_labels(torch.Tensor([second_number]).long(), n_classes)\n",
        "\n",
        "    percent_second_label = torch.linspace(0, 1, n_interpolation)[:, None]\n",
        "    interpolation_labels = first_label * (1 - percent_second_label) + second_label * percent_second_label\n",
        "\n",
        "    noise_and_labels = combine_vectors(interpolation_noise, interpolation_labels.to(device))\n",
        "    fake = gen(noise_and_labels)\n",
        "    show_tensor_images(fake, num_images=n_interpolation, nrow=int(math.sqrt(n_interpolation)), show=False)\n",
        "\n",
        "start_plot_number = 1\n",
        "end_plot_number = 5\n",
        "\n",
        "plt.figure(figsize=(8, 8))\n",
        "interpolate_class(start_plot_number, end_plot_number)\n",
        "_ = plt.axis('off')"
      ],
      "execution_count": null,
      "outputs": []
    },
    {
      "cell_type": "code",
      "metadata": {
        "id": "L5MhRL1ohpnq"
      },
      "source": [
        "n_interpolation = 9\n",
        "\n",
        "interpolation_label = get_one_hot_labels(torch.Tensor([5]).long(), n_classes).repeat(n_interpolation, 1).float()\n",
        "\n",
        "def interpolate_noise(first_noise, second_noise):\n",
        "    percent_first_noise = torch.linspace(0, 1, n_interpolation)[:, None].to(device)\n",
        "    interpolation_noise = first_noise * percent_first_noise + second_noise * (1 - percent_first_noise)\n",
        "\n",
        "    noise_and_labels = combine_vectors(interpolation_noise, interpolation_label.to(device))\n",
        "    fake = gen(noise_and_labels)\n",
        "    show_tensor_images(fake, num_images=n_interpolation, nrow=int(math.sqrt(n_interpolation)), show=False)\n",
        "\n",
        "n_noise = 5\n",
        "plot_noises = [get_noise(1, z_dim, device=device) for i in range(n_noise)]\n",
        "plt.figure(figsize=(8, 8))\n",
        "for i, first_plot_noise in enumerate(plot_noises):\n",
        "    for j, second_plot_noise in enumerate(plot_noises):\n",
        "        plt.subplot(n_noise, n_noise, i * n_noise + j + 1)\n",
        "        interpolate_noise(first_plot_noise, second_plot_noise)\n",
        "        plt.axis('off')\n",
        "plt.subplots_adjust(top=1, bottom=0, left=0, right=1, hspace=0.1, wspace=0)\n",
        "plt.show()\n",
        "plt.close()"
      ],
      "execution_count": null,
      "outputs": []
    }
  ]
}